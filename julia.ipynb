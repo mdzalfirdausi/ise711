{
 "cells": [
  {
   "cell_type": "code",
   "execution_count": 1,
   "id": "9d02b54f",
   "metadata": {},
   "outputs": [],
   "source": [
    "using PowerModels"
   ]
  },
  {
   "cell_type": "code",
   "execution_count": 2,
   "id": "2ea97591",
   "metadata": {},
   "outputs": [
    {
     "data": {
      "text/plain": [
       "\"C:\\\\Users\\\\firda\\\\belajar\\\\ISE711\""
      ]
     },
     "execution_count": 2,
     "metadata": {},
     "output_type": "execute_result"
    }
   ],
   "source": [
    "pwd()"
   ]
  },
  {
   "cell_type": "code",
   "execution_count": 4,
   "id": "071b3cbe",
   "metadata": {},
   "outputs": [
    {
     "name": "stdout",
     "output_type": "stream",
     "text": [
      "\u001b[35m[warn | PowerModels]: the voltage setpoint on generator 4 does not match the value at bus 8\u001b[39m\n",
      "\u001b[35m[warn | PowerModels]: the voltage setpoint on generator 1 does not match the value at bus 1\u001b[39m\n",
      "\u001b[35m[warn | PowerModels]: the voltage setpoint on generator 5 does not match the value at bus 11\u001b[39m\n",
      "\u001b[35m[warn | PowerModels]: the voltage setpoint on generator 2 does not match the value at bus 2\u001b[39m\n",
      "\u001b[35m[warn | PowerModels]: the voltage setpoint on generator 6 does not match the value at bus 13\u001b[39m\n",
      "\u001b[35m[warn | PowerModels]: the voltage setpoint on generator 3 does not match the value at bus 5\u001b[39m\n",
      "\u001b[32m[info | PowerModels]: removing 3 cost terms from generator 4: Float64[]\u001b[39m\n",
      "\u001b[32m[info | PowerModels]: removing 1 cost terms from generator 1: [3211.2558999999997, 0.0]\u001b[39m\n",
      "\u001b[32m[info | PowerModels]: removing 3 cost terms from generator 5: Float64[]\u001b[39m\n",
      "\u001b[32m[info | PowerModels]: removing 1 cost terms from generator 2: [6179.8693, 0.0]\u001b[39m\n",
      "\u001b[32m[info | PowerModels]: removing 3 cost terms from generator 6: Float64[]\u001b[39m\n",
      "\u001b[32m[info | PowerModels]: removing 3 cost terms from generator 3: Float64[]\u001b[39m\n",
      "Dict{String, Any}(\"zone\" => 1, \"bus_i\" => 1, \"bus_type\" => 3, \"vmax\" => 1.06, \"source_id\" => Any[\"bus\", 1], \"area\" => 1, \"vmin\" => 0.94, \"index\" => 1, \"va\" => 0.0, \"vm\" => 1.0, \"base_kv\" => 132.0)\n"
     ]
    }
   ],
   "source": [
    "filename =  \"julia/pglib-opf-17.08/pglib_opf_case30_ieee.m\"\n",
    "network_data = PowerModels.parse_file(filename)\n"
   ]
  },
  {
   "cell_type": "code",
   "execution_count": 5,
   "id": "f0a2f189",
   "metadata": {},
   "outputs": [
    {
     "name": "stdout",
     "output_type": "stream",
     "text": [
      "Dict{String, Any}(\"zone\" => 1, \"bus_i\" => 1, \"bus_type\" => 3, \"vmax\" => 1.06, \"source_id\" => Any[\"bus\", 1], \"area\" => 1, \"vmin\" => 0.94, \"index\" => 1, \"va\" => 0.0, \"vm\" => 1.0, \"base_kv\" => 132.0)\n"
     ]
    }
   ],
   "source": [
    "println(network_data[\"bus\"][\"1\"])"
   ]
  }
 ],
 "metadata": {
  "kernelspec": {
   "display_name": "Julia 1.10.5",
   "language": "julia",
   "name": "julia-1.10"
  },
  "language_info": {
   "file_extension": ".jl",
   "mimetype": "application/julia",
   "name": "julia",
   "version": "1.10.5"
  }
 },
 "nbformat": 4,
 "nbformat_minor": 5
}
