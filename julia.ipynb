{
 "cells": [
  {
   "cell_type": "code",
   "execution_count": 1,
   "id": "50930d3e",
   "metadata": {},
   "outputs": [],
   "source": [
    "using PowerModels"
   ]
  },
  {
   "cell_type": "code",
   "execution_count": 2,
   "id": "0a8706fe",
   "metadata": {},
   "outputs": [
    {
     "data": {
      "text/plain": [
       "\"C:\\\\Users\\\\firda\\\\belajar\\\\ISE711\""
      ]
     },
     "execution_count": 2,
     "metadata": {},
     "output_type": "execute_result"
    }
   ],
   "source": [
    "pwd()"
   ]
  },
  {
   "cell_type": "code",
   "execution_count": null,
   "id": "b7039ade",
   "metadata": {},
   "outputs": [
    {
     "name": "stdout",
     "output_type": "stream",
     "text": [
      "\u001b[35m[warn | PowerModels]: the voltage setpoint on generator 4 does not match the value at bus 8\u001b[39m\n",
      "\u001b[35m[warn | PowerModels]: the voltage setpoint on generator 1 does not match the value at bus 1\u001b[39m\n",
      "\u001b[35m[warn | PowerModels]: the voltage setpoint on generator 5 does not match the value at bus 11\u001b[39m\n",
      "\u001b[35m[warn | PowerModels]: the voltage setpoint on generator 2 does not match the value at bus 2\u001b[39m\n",
      "\u001b[35m[warn | PowerModels]: the voltage setpoint on generator 6 does not match the value at bus 13\u001b[39m\n",
      "\u001b[35m[warn | PowerModels]: the voltage setpoint on generator 3 does not match the value at bus 5\u001b[39m\n",
      "\u001b[32m[info | PowerModels]: removing 3 cost terms from generator 4: Float64[]\u001b[39m\n",
      "\u001b[32m[info | PowerModels]: removing 1 cost terms from generator 1: [3211.2558999999997, 0.0]\u001b[39m\n",
      "\u001b[32m[info | PowerModels]: removing 3 cost terms from generator 5: Float64[]\u001b[39m\n",
      "\u001b[32m[info | PowerModels]: removing 1 cost terms from generator 2: [6179.8693, 0.0]\u001b[39m\n",
      "\u001b[32m[info | PowerModels]: removing 3 cost terms from generator 6: Float64[]\u001b[39m\n",
      "\u001b[32m[info | PowerModels]: removing 3 cost terms from generator 3: Float64[]\u001b[39m\n"
     ]
    }
   ],
   "source": [
    "filename = \"julia/pglib-opf-17.08/pglib_opf_case30_ieee.m\"\n",
    "ref = PowerModels.build_ref(PowerModels.parse_file(filename))[:nw][0];"
   ]
  }
 ],
 "metadata": {
  "kernelspec": {
   "display_name": "Julia 1.10.5",
   "language": "julia",
   "name": "julia-1.10"
  },
  "language_info": {
   "file_extension": ".jl",
   "mimetype": "application/julia",
   "name": "julia",
   "version": "1.10.5"
  }
 },
 "nbformat": 4,
 "nbformat_minor": 5
}
