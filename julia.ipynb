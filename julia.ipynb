{
 "cells": [
  {
   "cell_type": "code",
   "execution_count": 1,
   "id": "c119f1fa-ee79-402b-986d-04b27c8a3208",
   "metadata": {
    "jupyter": {
     "is_executing": true
    }
   },
   "outputs": [],
   "source": [
    "# DON'T DELETE\n",
    "using PowerModels\n",
    "using Ipopt\n",
    "using JuMP\n",
    "using Clp\n",
    "using Pkg\n",
    "using Distributions\n",
    "using MathOptInterface\n",
    "using ProgressMeter\n",
    "using DataFrames, XLSX\n",
    "using LinearAlgebra\n",
    "using JSON\n",
    "using Random"
   ]
  },
  {
   "cell_type": "code",
   "execution_count": 28,
   "id": "314b01d5",
   "metadata": {},
   "outputs": [
    {
     "ename": "LoadError",
     "evalue": "UndefVarError: `NetworkReference` not defined",
     "output_type": "error",
     "traceback": [
      "UndefVarError: `NetworkReference` not defined",
      "",
      "Stacktrace:",
      " [1] top-level scope",
      "   @ In[28]:2"
     ]
    }
   ],
   "source": [
    "data_file = string(\"nesta_case30_ieee.m\")\n",
    "ref = NetworkReference(data_file, bus_prob = 0.95, line_prob = 0.95, σscaling = 0.05)"
   ]
  },
  {
   "cell_type": "code",
   "execution_count": null,
   "id": "471e0fbe",
   "metadata": {},
   "outputs": [],
   "source": []
  },
  {
   "cell_type": "code",
   "execution_count": null,
   "id": "4cbc2841",
   "metadata": {},
   "outputs": [],
   "source": []
  },
  {
   "cell_type": "code",
   "execution_count": null,
   "id": "145c2aee",
   "metadata": {},
   "outputs": [],
   "source": []
  },
  {
   "cell_type": "code",
   "execution_count": null,
   "id": "fe13dd64",
   "metadata": {},
   "outputs": [],
   "source": []
  },
  {
   "cell_type": "code",
   "execution_count": null,
   "id": "4e18d262",
   "metadata": {},
   "outputs": [],
   "source": []
  }
 ],
 "metadata": {
  "kernelspec": {
   "display_name": "Julia 1.10.5",
   "language": "julia",
   "name": "julia-1.10"
  },
  "language_info": {
   "file_extension": ".jl",
   "mimetype": "application/julia",
   "name": "julia",
   "version": "1.10.5"
  }
 },
 "nbformat": 4,
 "nbformat_minor": 5
}
