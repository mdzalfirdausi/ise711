{
 "cells": [
  {
   "cell_type": "code",
   "execution_count": 27,
   "id": "26394efd",
   "metadata": {},
   "outputs": [
    {
     "name": "stdout",
     "output_type": "stream",
     "text": [
      "12 0\n",
      "1 0 0 1\n"
     ]
    }
   ],
   "source": [
    "from collections import namedtuple\n",
    "Item = namedtuple(\"Item\", ['index', 'value', 'weight'])\n",
    "\n",
    "def solve_it(input_data):\n",
    "    # Modify this code to run your optimization algorithm\n",
    "\n",
    "    # parse the input\n",
    "    lines = input_data.split('\\n')\n",
    "\n",
    "    firstLine = lines[0].split()\n",
    "    item_count = int(firstLine[0])\n",
    "    capacity = int(firstLine[1])\n",
    "\n",
    "    items = []\n",
    "\n",
    "    for i in range(1, item_count+1):\n",
    "        line = lines[i]\n",
    "        parts = line.split()\n",
    "        items.append(Item(i-1, int(parts[0]), int(parts[1])))\n",
    "\n",
    "    # a trivial algorithm for filling the knapsack\n",
    "    # it takes items in-order until the knapsack is full\n",
    "    value = 0\n",
    "    weight = 0\n",
    "    taken = [0]*len(items)\n",
    "    items = sorted(items, key=lambda item: item.value) \n",
    "    \n",
    "    for item in items:\n",
    "       if weight + item.weight <= capacity:\n",
    "           taken[item.index] = 1\n",
    "           value += item.value\n",
    "           weight += item.weight\n",
    "    \n",
    "    # prepare the solution in the specified output format\n",
    "    output_data = str(value) + ' ' + str(0) + '\\n'\n",
    "    output_data += ' '.join(map(str, taken))\n",
    "    return output_data\n",
    "\n",
    "file_location = 'ks_4_0'\n",
    "with open(file_location, 'r') as input_data_file:\n",
    "    input_data = input_data_file.read()\n",
    "print(solve_it(input_data))"
   ]
  },
  {
   "cell_type": "code",
   "execution_count": 11,
   "id": "6e9cc47d",
   "metadata": {},
   "outputs": [],
   "source": [
    "file_location = 'ks_4_0'\n",
    "with open(file_location, 'r') as input_data_file:\n",
    "    input_data = input_data_file.read()\n",
    "lines = input_data.split('\\n')\n",
    "firstLine = lines[0].split()\n",
    "item_count = int(firstLine[0])\n",
    "items = []\n",
    "\n",
    "for i in range(1, item_count+1):\n",
    "    line = lines[i]\n",
    "    parts = line.split()\n",
    "    items.append(Item(i-1, int(parts[0]), int(parts[1])))"
   ]
  },
  {
   "cell_type": "code",
   "execution_count": 22,
   "id": "928449b8",
   "metadata": {},
   "outputs": [
    {
     "data": {
      "text/plain": [
       "[Item(index=3, value=4, weight=3),\n",
       " Item(index=0, value=8, weight=4),\n",
       " Item(index=1, value=10, weight=5),\n",
       " Item(index=2, value=15, weight=8)]"
      ]
     },
     "execution_count": 22,
     "metadata": {},
     "output_type": "execute_result"
    }
   ],
   "source": [
    "items = sorted(items, key=lambda item: item.value)\n",
    "items"
   ]
  },
  {
   "cell_type": "code",
   "execution_count": null,
   "id": "98924cb6",
   "metadata": {},
   "outputs": [],
   "source": []
  }
 ],
 "metadata": {
  "kernelspec": {
   "display_name": "Python 3 (ipykernel)",
   "language": "python",
   "name": "python3"
  },
  "language_info": {
   "codemirror_mode": {
    "name": "ipython",
    "version": 3
   },
   "file_extension": ".py",
   "mimetype": "text/x-python",
   "name": "python",
   "nbconvert_exporter": "python",
   "pygments_lexer": "ipython3",
   "version": "3.11.3"
  }
 },
 "nbformat": 4,
 "nbformat_minor": 5
}
