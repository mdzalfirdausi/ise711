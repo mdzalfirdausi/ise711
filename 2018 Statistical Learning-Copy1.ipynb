{
 "cells": [
  {
   "cell_type": "code",
   "execution_count": 1,
   "id": "b0ef7141",
   "metadata": {
    "ExecuteTime": {
     "end_time": "2025-01-28T11:23:36.814551Z",
     "start_time": "2025-01-28T11:23:31.649811Z"
    }
   },
   "outputs": [],
   "source": [
    "from tqdm import tqdm\n",
    "import pandapower as pp\n",
    "import pandas as pd\n",
    "import numpy as np\n",
    "from pandapower.pypower.makePTDF import makePTDF\n",
    "import pandapower.converter as pc\n",
    "import pyomo.environ as pyo\n",
    "from scipy.sparse import lil_matrix\n",
    "from matpowercaseframes import CaseFrames\n",
    "import pandas as pd\n",
    "from scipy.stats import multivariate_normal\n",
    "from numba import njit"
   ]
  },
  {
   "cell_type": "code",
   "execution_count": 2,
   "id": "d58f0956",
   "metadata": {
    "scrolled": true
   },
   "outputs": [
    {
     "name": "stdout",
     "output_type": "stream",
     "text": [
      "CPU times: total: 375 ms\n",
      "Wall time: 376 ms\n"
     ]
    }
   ],
   "source": [
    "%%time\n",
    "mpc_file = 'julia\\\\pglib-opf-17.08\\\\pglib_opf_case30_ieee.m'\n",
    "mpc_frames = CaseFrames(mpc_file)\n",
    "mpc = CaseFrames(mpc_file)\n",
    "net = pc.from_mpc(mpc_file)\n",
    "ppc = {key: mpc_frames.__getattribute__(key) if not isinstance(\n",
    "    mpc_frames.__getattribute__(key), pd.DataFrame) else mpc_frames.__getattribute__(\n",
    "    key).values for key in mpc_frames._attributes}\n",
    "baseMVA, bus, branch, gen = ppc['baseMVA'], ppc['bus'], ppc['branch'], ppc['gen']\n",
    "bus_index_dict = {}\n",
    "for i, index in enumerate(ppc['bus'][:,0]):\n",
    "    bus_index_dict[index.astype(int)] = i\n",
    "baseMVA,bus,branch = ppc['baseMVA'],ppc['bus'],ppc['branch']\n",
    "for i,bus_name in enumerate(bus[:,0]):\n",
    "    bus[i,0] = bus_index_dict[bus_name]\n",
    "for i,fbus_name in enumerate(branch[:,0]):\n",
    "    branch[i,0] = bus_index_dict[fbus_name]\n",
    "for i,tbus_name in enumerate(branch[:,1]):\n",
    "    branch[i,1] = bus_index_dict[tbus_name]\n",
    "for i,gen_name in enumerate(gen[:,0]):\n",
    "    gen[i,0] = bus_index_dict[gen_name]    \n",
    "gen_index = gen[:,0].astype(int)\n",
    "bus_index = bus[:,0].astype(int)\n",
    "gen_lb = mpc_frames.gen.PMIN.values\n",
    "gen_ub = mpc_frames.gen.PMAX.values\n",
    "num_samples = 1\n",
    "nbus = len(mpc_frames.bus)\n",
    "nline = len(mpc_frames.branch)\n",
    "cost_coeff = mpc_frames.gencost.loc[:,'COST_2':'COST_0'].values\n",
    "H = lil_matrix((len(bus_index), len(gen_index)), dtype=int)\n",
    "for col, gen_bus in enumerate(gen_index):\n",
    "    H[gen_bus, col] = 1\n",
    "H = H.tocsr()               \n",
    "M = makePTDF(baseMVA, bus, branch)\n",
    "f_max = np.array([rateA for i in range(len(branch)) for j,rateA in enumerate(branch[i]) if j == 5])\n",
    "p_init = mpc_frames.gen.PG.values\n",
    "d = mpc_frames.bus.PD.values\n",
    "sigma_scaling = 0.03\n",
    "nonzeroindices = np.nonzero(d)[0]\n",
    "d_nonzeros = d[d!=0]\n",
    "sigma = (sigma_scaling * d_nonzeros)\n",
    "mean = np.zeros(len(d_nonzeros))\n",
    "covariance_matrix = np.diag(sigma)**2\n",
    "omega_dist = multivariate_normal(mean=mean, cov=covariance_matrix)\n",
    "omega_samples = omega_dist.rvs(size=num_samples)\n",
    "omega = np.zeros((num_samples,nbus))\n",
    "omega[:,nonzeroindices] = omega_samples"
   ]
  },
  {
   "cell_type": "code",
   "execution_count": 3,
   "id": "857b3f0c",
   "metadata": {},
   "outputs": [
    {
     "name": "stdout",
     "output_type": "stream",
     "text": [
      "CPU times: total: 31.2 ms\n",
      "Wall time: 24.7 ms\n"
     ]
    }
   ],
   "source": [
    "%%time\n",
    "# paper model\n",
    "model = pyo.ConcreteModel()\n",
    "# sets\n",
    "ngen = len(gen_index)\n",
    "model.ng = pyo.RangeSet(0, ngen-1)\n",
    "nbus = len(bus_index)\n",
    "model.nb = pyo.RangeSet(0, nbus-1)\n",
    "nline = len(ppc['branch'])\n",
    "model.nl = pyo.RangeSet(0, nline-1)\n",
    "# variables\n",
    "model.p = pyo.Var(model.ng, domain=pyo.Reals, initialize=p_init)\n",
    "model.omega = pyo.Param(model.nb, domain=pyo.Reals, initialize=omega[0] , mutable=True)\n",
    "# objective (1a)\n",
    "model.obj = pyo.Objective(expr =\n",
    "                    sum([cost_coeff[:,0][g]*model.p[g] for g in model.ng])\\\n",
    "            + sum([cost_coeff[:,1][g]*model.p[g] for g in model.ng]) + cost_coeff[:,2].sum()\n",
    "                    , sense = pyo.minimize\n",
    ")\n",
    "# constraint (1b) μ is omitted\n",
    "model.c1b = pyo.Constraint(expr =\n",
    "                          sum([model.p[g] for g in model.ng ]) == \n",
    "                           sum([d[b] for b in model.nb]) \n",
    "                           - sum([model.omega[b] for b in model.nb])\n",
    "                          )\n",
    "# constraint (1c)\n",
    "def c1c_lb_rule(model, g):\n",
    "    return gen_lb[g] <= model.p[g]\n",
    "def c1c_ub_rule(model, g):\n",
    "    return gen_ub[g] >= model.p[g]\n",
    "model.c1c_lb = pyo.Constraint(model.ng, rule=c1c_lb_rule)\n",
    "model.c1c_ub = pyo.Constraint(model.ng, rule=c1c_ub_rule)\n",
    "# constraint (1d) μ is omitted\n",
    "flow_expr = M@(H.toarray()@model.p + model.omega - (d))\n",
    "def c1d_lb_rule(model, l):\n",
    "    return -f_max[l] <= flow_expr[l]\n",
    "def c1d_ub_rule(model, l):\n",
    "    return f_max[l] >= flow_expr[l]\n",
    "model.c1d_lb = pyo.Constraint(model.nl, rule=c1d_lb_rule)\n",
    "model.c1d_ub = pyo.Constraint(model.nl, rule=c1d_ub_rule)"
   ]
  },
  {
   "cell_type": "code",
   "execution_count": 4,
   "id": "ebd21ad9",
   "metadata": {},
   "outputs": [
    {
     "name": "stderr",
     "output_type": "stream",
     "text": [
      "1it [00:00,  4.43it/s]\n"
     ]
    }
   ],
   "source": [
    "# %%time\n",
    "solver = pyo.SolverFactory('mosek')\n",
    "infeasible=0\n",
    "bases_dict = {}\n",
    "bases_set = set()\n",
    "for i, value in tqdm(enumerate(omega)):\n",
    "    for j in model.nb:\n",
    "        model.omega[j] = value[j]\n",
    "    res = solver.solve(model)\n",
    "    if not res.solver.termination_condition == 'optimal':\n",
    "        infeasible+=1\n",
    "#     c_list = []\n",
    "#     for c in model.component_data_objects(pyo.Constraint):\n",
    "#         if np.isclose(c.slack(), 0, atol=1e-7):\n",
    "#             c_list.append(c.name)\n",
    "#     bases_set.add(tuple(c_list))\n",
    "#     bases_dict[i] = len(bases_set)"
   ]
  },
  {
   "cell_type": "code",
   "execution_count": 8,
   "id": "9a3ef157",
   "metadata": {},
   "outputs": [
    {
     "data": {
      "text/plain": [
       "<module 'mosek' from 'C:\\\\Users\\\\firda\\\\anaconda3\\\\Lib\\\\site-packages\\\\mosek\\\\__init__.py'>"
      ]
     },
     "execution_count": 8,
     "metadata": {},
     "output_type": "execute_result"
    }
   ],
   "source": [
    "mosek"
   ]
  },
  {
   "cell_type": "code",
   "execution_count": null,
   "id": "4d6063e0",
   "metadata": {},
   "outputs": [],
   "source": [
    "pyo.value(model.obj)"
   ]
  }
 ],
 "metadata": {
  "kernelspec": {
   "display_name": "Python 3 (ipykernel)",
   "language": "python",
   "name": "python3"
  },
  "language_info": {
   "codemirror_mode": {
    "name": "ipython",
    "version": 3
   },
   "file_extension": ".py",
   "mimetype": "text/x-python",
   "name": "python",
   "nbconvert_exporter": "python",
   "pygments_lexer": "ipython3",
   "version": "3.11.3"
  }
 },
 "nbformat": 4,
 "nbformat_minor": 5
}
