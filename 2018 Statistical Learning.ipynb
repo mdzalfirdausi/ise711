{
 "cells": [
  {
   "cell_type": "code",
   "execution_count": 3,
   "id": "868f8baa",
   "metadata": {},
   "outputs": [
    {
     "ename": "ModuleNotFoundError",
     "evalue": "No module named 'mypower'",
     "output_type": "error",
     "traceback": [
      "\u001b[1;31m---------------------------------------------------------------------------\u001b[0m",
      "\u001b[1;31mModuleNotFoundError\u001b[0m                       Traceback (most recent call last)",
      "Cell \u001b[1;32mIn[3], line 1\u001b[0m\n\u001b[1;32m----> 1\u001b[0m \u001b[38;5;28;01mimport\u001b[39;00m \u001b[38;5;21;01mmypower\u001b[39;00m \u001b[38;5;28;01mas\u001b[39;00m \u001b[38;5;21;01mmyp\u001b[39;00m\n\u001b[0;32m      3\u001b[0m m \u001b[38;5;241m=\u001b[39m myp\u001b[38;5;241m.\u001b[39mstart_matpower()\n\u001b[0;32m      4\u001b[0m mypc \u001b[38;5;241m=\u001b[39m m\u001b[38;5;241m.\u001b[39mrunpf(nout\u001b[38;5;241m=\u001b[39m\u001b[38;5;241m1\u001b[39m)\n",
      "\u001b[1;31mModuleNotFoundError\u001b[0m: No module named 'mypower'"
     ]
    }
   ],
   "source": [
    "import mypower as myp\n",
    "\n",
    "m = myp.start_matpower()\n",
    "mypc = m.runpf(nout=1) # nout specify number of returned variable from Octave"
   ]
  },
  {
   "cell_type": "code",
   "execution_count": 1,
   "id": "b0ef7141",
   "metadata": {
    "jupyter": {
     "is_executing": true
    }
   },
   "outputs": [
    {
     "name": "stdout",
     "output_type": "stream",
     "text": [
      "CPU times: total: 3.62 s\n",
      "Wall time: 4.74 s\n"
     ]
    }
   ],
   "source": [
    "%%time\n",
    "from tqdm import tqdm\n",
    "import pandapower as pp\n",
    "import pandas as pd\n",
    "import numpy as np\n",
    "import pandapower.converter as pc\n",
    "from pandapower.pypower.makePTDF import makePTDF\n",
    "import pyomo.environ as pyo\n",
    "# import matplotlib.pyplot as plt\n",
    "# import pandapower.plotting as plot"
   ]
  },
  {
   "cell_type": "code",
   "execution_count": 20,
   "id": "55e0fc7d",
   "metadata": {},
   "outputs": [
    {
     "name": "stdout",
     "output_type": "stream",
     "text": [
      "[0.0, 1.0, 0.0030000000000000005, 0.014, 0.4610000000000001, 175.0, 250.0, 250.0, 1.0, 0.0, 1.0, -360.0, 360.0, 0.0, 0.0, 0.0, 0.0, 0.0, 0.0, 0.0, 0.0, 0.0, 0.0]\n"
     ]
    }
   ],
   "source": [
    "# ppc.keys()\n",
    "print([ppc['branch'][0][i] for i in range(len(ppc['branch'][0]))])"
   ]
  },
  {
   "cell_type": "code",
   "execution_count": 12,
   "id": "d58f0956",
   "metadata": {},
   "outputs": [
    {
     "name": "stdout",
     "output_type": "stream",
     "text": [
      "CPU times: total: 438 ms\n",
      "Wall time: 422 ms\n"
     ]
    }
   ],
   "source": [
    "%%time\n",
    "mpc_file = 'data\\\\pglib-opf-17.08\\\\pglib_opf_case73_ieee_rts.m'\n",
    "net = pc.from_mpc(mpc_file)\n",
    "ppc = pc.to_ppc(net, init='flat')\n",
    "# bus_index_dict = {}\n",
    "# for i, index in enumerate(net.bus.index):\n",
    "#     bus_index_dict[index] = i\n",
    "# baseMVA,bus,branch = ppc['baseMVA'],ppc['bus'],ppc['branch']\n",
    "# M = makePTDF(baseMVA, bus, branch)\n",
    "# f_max = np.array([rateA for i in range(len(branch)) for j,rateA in enumerate(branch[i]) if j == 5])\n",
    "# p_init = net.gen.p_mw.values\n",
    "# p_init = np.insert(p_init, 0, 0)\n",
    "# d = np.array([0 for i in range(len(net.bus))], dtype=float)\n",
    "# for i, load_p_mw in enumerate(net.load.p_mw):\n",
    "#     d[i] = load_p_mw\n",
    "# d_shunt = np.array([0 for i in range(len(net.bus))], dtype=float)\n",
    "# for i, shunt_p_mw in enumerate(net.shunt.p_mw):\n",
    "#     d_shunt[i] = shunt_p_mw\n",
    "# sigma_scaling = 0.03\n",
    "# sigma = (sigma_scaling * d)\n",
    "# mean = np.zeros(len(d))\n",
    "# covariance_matrix = np.diag(sigma**2)\n",
    "# num_samples = 1\n",
    "# omega = np.random.multivariate_normal(mean, covariance_matrix, num_samples)\n",
    "# ngen = len(net.gen) + len(net.ext_grid)\n",
    "# gen_index = net.gen.bus.values\n",
    "# gen_index = np.insert(gen_index, 0, net.ext_grid.bus.values)\n",
    "# gen_lb = net.gen.min_p_mw.values\n",
    "# gen_lb = np.insert(gen_lb, 0, np.float64(net.ext_grid.min_p_mw.values))\n",
    "# gen_ub = net.gen.max_p_mw.values\n",
    "# gen_ub = np.insert(gen_ub, 0, np.float64(net.ext_grid.max_p_mw.values))\n",
    "# # gen_ub = np.insert(gen_ub, 0, np.float64(271.)) # 271. is from IEEE PES PGLib-OPF v17.08 only for IEEE30bus\n",
    "# nbus = len(net.bus)\n",
    "# nline = len(net.line)+len(net.trafo)\n",
    "# cost_coeff = net.poly_cost[net.poly_cost['et'] != 'sgen'].sort_values(by='et').loc[:, 'cp0_eur': 'cp2_eur_per_mw2'].values\n",
    "# connection = (net.line.from_bus.values, net.line.to_bus.values, net.trafo.hv_bus.values,\\\n",
    "#               net.trafo.lv_bus.values)\n",
    "# bus_matrix = np.zeros( (nbus, nbus) )\n",
    "# for i in zip(connection[1], connection[0]):\n",
    "#     bus_matrix[bus_index_dict[i[0]],bus_index_dict[i[1]]] = 1\n",
    "# gen_index_reset = np.array([bus_index_dict[gen_index[g]] for g in range(len(gen_index))])\n",
    "# H = bus_matrix[:,gen_index_reset]"
   ]
  },
  {
   "cell_type": "code",
   "execution_count": 26,
   "id": "a6eb9724",
   "metadata": {
    "collapsed": true
   },
   "outputs": [
    {
     "ename": "ValueError",
     "evalue": "Constraint 'c1d_lb[1]' created with an invalid non-finite lower bound (nan).",
     "output_type": "error",
     "traceback": [
      "\u001b[1;31m---------------------------------------------------------------------------\u001b[0m",
      "\u001b[1;31mValueError\u001b[0m                                Traceback (most recent call last)",
      "File \u001b[1;32m<timed exec>:38\u001b[0m\n",
      "File \u001b[1;32m~\\anaconda3\\Lib\\site-packages\\pyomo\\core\\base\\constraint.py:1093\u001b[0m, in \u001b[0;36mConstraintList.add\u001b[1;34m(self, expr)\u001b[0m\n\u001b[0;32m   1091\u001b[0m next_idx \u001b[38;5;241m=\u001b[39m \u001b[38;5;28mlen\u001b[39m(\u001b[38;5;28mself\u001b[39m\u001b[38;5;241m.\u001b[39m_index_set) \u001b[38;5;241m+\u001b[39m \u001b[38;5;28mself\u001b[39m\u001b[38;5;241m.\u001b[39m_starting_index\n\u001b[0;32m   1092\u001b[0m \u001b[38;5;28mself\u001b[39m\u001b[38;5;241m.\u001b[39m_index_set\u001b[38;5;241m.\u001b[39madd(next_idx)\n\u001b[1;32m-> 1093\u001b[0m \u001b[38;5;28;01mreturn\u001b[39;00m \u001b[38;5;28mself\u001b[39m\u001b[38;5;241m.\u001b[39m\u001b[38;5;21m__setitem__\u001b[39m(next_idx, expr)\n",
      "File \u001b[1;32m~\\anaconda3\\Lib\\site-packages\\pyomo\\core\\base\\indexed_component.py:705\u001b[0m, in \u001b[0;36mIndexedComponent.__setitem__\u001b[1;34m(self, index, val)\u001b[0m\n\u001b[0;32m    703\u001b[0m obj \u001b[38;5;241m=\u001b[39m \u001b[38;5;28mself\u001b[39m\u001b[38;5;241m.\u001b[39m_data\u001b[38;5;241m.\u001b[39mget(index, _NotFound)\n\u001b[0;32m    704\u001b[0m \u001b[38;5;28;01mif\u001b[39;00m obj \u001b[38;5;129;01mis\u001b[39;00m _NotFound:\n\u001b[1;32m--> 705\u001b[0m     \u001b[38;5;28;01mreturn\u001b[39;00m \u001b[38;5;28mself\u001b[39m\u001b[38;5;241m.\u001b[39m_setitem_when_not_present(index, val)\n\u001b[0;32m    706\u001b[0m \u001b[38;5;28;01melse\u001b[39;00m:\n\u001b[0;32m    707\u001b[0m     \u001b[38;5;28;01mreturn\u001b[39;00m \u001b[38;5;28mself\u001b[39m\u001b[38;5;241m.\u001b[39m_setitem_impl(index, obj, val)\n",
      "File \u001b[1;32m~\\anaconda3\\Lib\\site-packages\\pyomo\\core\\base\\indexed_component.py:1101\u001b[0m, in \u001b[0;36mIndexedComponent._setitem_when_not_present\u001b[1;34m(self, index, value)\u001b[0m\n\u001b[0;32m   1099\u001b[0m \u001b[38;5;28;01mtry\u001b[39;00m:\n\u001b[0;32m   1100\u001b[0m     \u001b[38;5;28;01mif\u001b[39;00m value \u001b[38;5;129;01mis\u001b[39;00m \u001b[38;5;129;01mnot\u001b[39;00m _NotSpecified:\n\u001b[1;32m-> 1101\u001b[0m         obj\u001b[38;5;241m.\u001b[39mset_value(value)\n\u001b[0;32m   1102\u001b[0m \u001b[38;5;28;01mexcept\u001b[39;00m:\n\u001b[0;32m   1103\u001b[0m     \u001b[38;5;28mself\u001b[39m\u001b[38;5;241m.\u001b[39m_data\u001b[38;5;241m.\u001b[39mpop(index, \u001b[38;5;28;01mNone\u001b[39;00m)\n",
      "File \u001b[1;32m~\\anaconda3\\Lib\\site-packages\\pyomo\\core\\base\\constraint.py:676\u001b[0m, in \u001b[0;36m_GeneralConstraintData.set_value\u001b[1;34m(self, expr)\u001b[0m\n\u001b[0;32m    674\u001b[0m             \u001b[38;5;28mself\u001b[39m\u001b[38;5;241m.\u001b[39m_lower \u001b[38;5;241m=\u001b[39m \u001b[38;5;28;01mNone\u001b[39;00m\n\u001b[0;32m    675\u001b[0m         \u001b[38;5;28;01melse\u001b[39;00m:\n\u001b[1;32m--> 676\u001b[0m             \u001b[38;5;28;01mraise\u001b[39;00m \u001b[38;5;167;01mValueError\u001b[39;00m(\n\u001b[0;32m    677\u001b[0m                 \u001b[38;5;124m\"\u001b[39m\u001b[38;5;124mConstraint \u001b[39m\u001b[38;5;124m'\u001b[39m\u001b[38;5;132;01m%s\u001b[39;00m\u001b[38;5;124m'\u001b[39m\u001b[38;5;124m created with an invalid non-finite \u001b[39m\u001b[38;5;124m\"\u001b[39m\n\u001b[0;32m    678\u001b[0m                 \u001b[38;5;124m\"\u001b[39m\u001b[38;5;124mlower bound (\u001b[39m\u001b[38;5;132;01m%s\u001b[39;00m\u001b[38;5;124m).\u001b[39m\u001b[38;5;124m\"\u001b[39m \u001b[38;5;241m%\u001b[39m (\u001b[38;5;28mself\u001b[39m\u001b[38;5;241m.\u001b[39mname, \u001b[38;5;28mself\u001b[39m\u001b[38;5;241m.\u001b[39m_lower)\n\u001b[0;32m    679\u001b[0m             )\n\u001b[0;32m    680\u001b[0m \u001b[38;5;28;01mif\u001b[39;00m \u001b[38;5;28mself\u001b[39m\u001b[38;5;241m.\u001b[39m_upper\u001b[38;5;241m.\u001b[39m\u001b[38;5;18m__class__\u001b[39m \u001b[38;5;129;01min\u001b[39;00m native_numeric_types:\n\u001b[0;32m    681\u001b[0m     bound \u001b[38;5;241m=\u001b[39m \u001b[38;5;28mself\u001b[39m\u001b[38;5;241m.\u001b[39m_upper\n",
      "\u001b[1;31mValueError\u001b[0m: Constraint 'c1d_lb[1]' created with an invalid non-finite lower bound (nan)."
     ]
    }
   ],
   "source": [
    "%%time\n",
    "# paper model\n",
    "model = pyo.ConcreteModel()\n",
    "# sets\n",
    "ngen = len(net.gen) + len(net.ext_grid)\n",
    "model.ng = pyo.RangeSet(0, ngen-1)\n",
    "nbus = len(net.bus)\n",
    "model.nb = pyo.RangeSet(0, nbus-1)\n",
    "nline = len(net.line) + len(net.trafo)\n",
    "model.nl = pyo.RangeSet(0, nline-1)\n",
    "# variables\n",
    "model.p = pyo.Var(model.ng, domain=pyo.Reals, initialize=p_init)\n",
    "model.omega = pyo.Var(model.nb, domain=pyo.Reals)\n",
    "# objective (1a)\n",
    "model.obj = pyo.Objective(expr =\n",
    "                          cost_coeff[:,0].sum() + cost_coeff[:,1]@model.p + cost_coeff[:,2]@model.p\n",
    "                          , sense = pyo.minimize\n",
    ")\n",
    "# constraint (1b) μ is omitted\n",
    "model.c1b = pyo.Constraint(expr =\n",
    "                          sum([model.p[g] for g in model.ng ]) == \n",
    "                           sum([d[b] + d_shunt[b] for b in model.nb]) \n",
    "                           - sum([model.omega[b] for b in model.nb])\n",
    "                          )\n",
    "# constraint (1c)\n",
    "model.c1c_lb = pyo.ConstraintList()\n",
    "model.c1c_ub = pyo.ConstraintList()\n",
    "for i in model.ng:\n",
    "    model.c1c_lb.add(expr=\n",
    "                    gen_lb[i] <= model.p[i]\n",
    "                    )\n",
    "    model.c1c_ub.add(expr=\n",
    "                    model.p[i] <= gen_ub[i]\n",
    "                    )\n",
    "# constraint (1d) μ is omitted\n",
    "model.c1d_lb = pyo.ConstraintList()\n",
    "model.c1d_ub = pyo.ConstraintList()\n",
    "for i in model.nl:\n",
    "    model.c1d_lb.add(expr=\n",
    "                    -f_max[i] <= (M@(H@model.p + model.omega - (d + d_shunt)))[i]\n",
    "                    )\n",
    "    model.c1d_ub.add(expr=\n",
    "                     (M@(H@model.p + model.omega - (d + d_shunt)))[i] <= f_max[i]\n",
    "                    )\n",
    "instance = model.create_instance()"
   ]
  },
  {
   "cell_type": "code",
   "execution_count": 27,
   "id": "ebd21ad9",
   "metadata": {
    "collapsed": true
   },
   "outputs": [
    {
     "name": "stderr",
     "output_type": "stream",
     "text": [
      "0it [00:00, ?it/s]\n"
     ]
    },
    {
     "ename": "KeyError",
     "evalue": "\"Index '5' is not valid for indexed component 'omega'\"",
     "output_type": "error",
     "traceback": [
      "\u001b[1;31m---------------------------------------------------------------------------\u001b[0m",
      "\u001b[1;31mKeyError\u001b[0m                                  Traceback (most recent call last)",
      "Cell \u001b[1;32mIn[27], line 6\u001b[0m\n\u001b[0;32m      4\u001b[0m \u001b[38;5;28;01mfor\u001b[39;00m i, value \u001b[38;5;129;01min\u001b[39;00m tqdm(\u001b[38;5;28menumerate\u001b[39m(omega)):\n\u001b[0;32m      5\u001b[0m     \u001b[38;5;28;01mfor\u001b[39;00m j \u001b[38;5;129;01min\u001b[39;00m model\u001b[38;5;241m.\u001b[39mnb:\n\u001b[1;32m----> 6\u001b[0m         instance\u001b[38;5;241m.\u001b[39momega[j]\u001b[38;5;241m.\u001b[39mfix(value[j]) \u001b[38;5;66;03m#\u001b[39;00m\n\u001b[0;32m      7\u001b[0m     res \u001b[38;5;241m=\u001b[39m solver\u001b[38;5;241m.\u001b[39msolve(instance)\n\u001b[0;32m      8\u001b[0m     \u001b[38;5;28;01mif\u001b[39;00m \u001b[38;5;129;01mnot\u001b[39;00m res\u001b[38;5;241m.\u001b[39msolver\u001b[38;5;241m.\u001b[39mtermination_condition \u001b[38;5;241m==\u001b[39m \u001b[38;5;124m'\u001b[39m\u001b[38;5;124moptimal\u001b[39m\u001b[38;5;124m'\u001b[39m:\n",
      "File \u001b[1;32m~\\anaconda3\\Lib\\site-packages\\pyomo\\core\\base\\var.py:985\u001b[0m, in \u001b[0;36mIndexedVar.__getitem__\u001b[1;34m(self, args)\u001b[0m\n\u001b[0;32m    983\u001b[0m \u001b[38;5;28;01mdef\u001b[39;00m \u001b[38;5;21m__getitem__\u001b[39m(\u001b[38;5;28mself\u001b[39m, args):\n\u001b[0;32m    984\u001b[0m     \u001b[38;5;28;01mtry\u001b[39;00m:\n\u001b[1;32m--> 985\u001b[0m         \u001b[38;5;28;01mreturn\u001b[39;00m \u001b[38;5;28msuper\u001b[39m()\u001b[38;5;241m.\u001b[39m\u001b[38;5;21m__getitem__\u001b[39m(args)\n\u001b[0;32m    986\u001b[0m     \u001b[38;5;28;01mexcept\u001b[39;00m \u001b[38;5;167;01mRuntimeError\u001b[39;00m:\n\u001b[0;32m    987\u001b[0m         tmp \u001b[38;5;241m=\u001b[39m args \u001b[38;5;28;01mif\u001b[39;00m args\u001b[38;5;241m.\u001b[39m\u001b[38;5;18m__class__\u001b[39m \u001b[38;5;129;01mis\u001b[39;00m \u001b[38;5;28mtuple\u001b[39m \u001b[38;5;28;01melse\u001b[39;00m (args,)\n",
      "File \u001b[1;32m~\\anaconda3\\Lib\\site-packages\\pyomo\\core\\base\\indexed_component.py:635\u001b[0m, in \u001b[0;36mIndexedComponent.__getitem__\u001b[1;34m(self, index)\u001b[0m\n\u001b[0;32m    633\u001b[0m \u001b[38;5;28;01mif\u001b[39;00m \u001b[38;5;28misinstance\u001b[39m(index, EXPR\u001b[38;5;241m.\u001b[39mGetItemExpression):\n\u001b[0;32m    634\u001b[0m     \u001b[38;5;28;01mreturn\u001b[39;00m index\n\u001b[1;32m--> 635\u001b[0m validated_index \u001b[38;5;241m=\u001b[39m \u001b[38;5;28mself\u001b[39m\u001b[38;5;241m.\u001b[39m_validate_index(index)\n\u001b[0;32m    636\u001b[0m \u001b[38;5;28;01mif\u001b[39;00m validated_index \u001b[38;5;129;01mis\u001b[39;00m \u001b[38;5;129;01mnot\u001b[39;00m index:\n\u001b[0;32m    637\u001b[0m     index \u001b[38;5;241m=\u001b[39m validated_index\n",
      "File \u001b[1;32m~\\anaconda3\\Lib\\site-packages\\pyomo\\core\\base\\indexed_component.py:863\u001b[0m, in \u001b[0;36mIndexedComponent._validate_index\u001b[1;34m(self, idx)\u001b[0m\n\u001b[0;32m    856\u001b[0m     \u001b[38;5;28;01mraise\u001b[39;00m \u001b[38;5;167;01mKeyError\u001b[39;00m(\n\u001b[0;32m    857\u001b[0m         \u001b[38;5;124m\"\u001b[39m\u001b[38;5;124mCannot treat the scalar component \u001b[39m\u001b[38;5;124m'\u001b[39m\u001b[38;5;132;01m%s\u001b[39;00m\u001b[38;5;124m'\u001b[39m\u001b[38;5;124m \u001b[39m\u001b[38;5;124m\"\u001b[39m\n\u001b[0;32m    858\u001b[0m         \u001b[38;5;124m\"\u001b[39m\u001b[38;5;124mas an indexed component\u001b[39m\u001b[38;5;124m\"\u001b[39m \u001b[38;5;241m%\u001b[39m (\u001b[38;5;28mself\u001b[39m\u001b[38;5;241m.\u001b[39mname,)\n\u001b[0;32m    859\u001b[0m     )\n\u001b[0;32m    860\u001b[0m \u001b[38;5;66;03m#\u001b[39;00m\n\u001b[0;32m    861\u001b[0m \u001b[38;5;66;03m# Raise an exception\u001b[39;00m\n\u001b[0;32m    862\u001b[0m \u001b[38;5;66;03m#\u001b[39;00m\n\u001b[1;32m--> 863\u001b[0m \u001b[38;5;28;01mraise\u001b[39;00m \u001b[38;5;167;01mKeyError\u001b[39;00m(\n\u001b[0;32m    864\u001b[0m     \u001b[38;5;124m\"\u001b[39m\u001b[38;5;124mIndex \u001b[39m\u001b[38;5;124m'\u001b[39m\u001b[38;5;132;01m%s\u001b[39;00m\u001b[38;5;124m'\u001b[39m\u001b[38;5;124m is not valid for indexed component \u001b[39m\u001b[38;5;124m'\u001b[39m\u001b[38;5;132;01m%s\u001b[39;00m\u001b[38;5;124m'\u001b[39m\u001b[38;5;124m\"\u001b[39m \u001b[38;5;241m%\u001b[39m (idx, \u001b[38;5;28mself\u001b[39m\u001b[38;5;241m.\u001b[39mname)\n\u001b[0;32m    865\u001b[0m )\n",
      "\u001b[1;31mKeyError\u001b[0m: \"Index '5' is not valid for indexed component 'omega'\""
     ]
    }
   ],
   "source": [
    "solver = pyo.SolverFactory('mosek')\n",
    "obj_dict={}\n",
    "infeasible=0\n",
    "for i, value in tqdm(enumerate(omega)):\n",
    "    for j in model.nb:\n",
    "        instance.omega[j].fix(value[j]) #\n",
    "    res = solver.solve(instance)\n",
    "    if not res.solver.termination_condition == 'optimal':\n",
    "        infeasible+=1\n",
    "#         log_infeasible_constraints(instance)\n",
    "    obj_dict[i]=pyo.value(instance.obj)\n",
    "print(f'C_total=', pyo.value(instance.obj))\n",
    "# for i in instance.p:\n",
    "#     print(f'P{i}=', pyo.value(instance.p[i]))\n"
   ]
  },
  {
   "cell_type": "code",
   "execution_count": null,
   "id": "7cc48be3",
   "metadata": {},
   "outputs": [],
   "source": [
    "# from pyomo.util.infeasible import log_infeasible_constraints\n",
    "# import logging\n",
    "# logging.basicConfig(level=logging.INFO)\n",
    "# log_infeasible_constraints(instance)"
   ]
  }
 ],
 "metadata": {
  "kernelspec": {
   "display_name": "Python 3 (ipykernel)",
   "language": "python",
   "name": "python3"
  },
  "language_info": {
   "codemirror_mode": {
    "name": "ipython",
    "version": 3
   },
   "file_extension": ".py",
   "mimetype": "text/x-python",
   "name": "python",
   "nbconvert_exporter": "python",
   "pygments_lexer": "ipython3",
   "version": "3.11.3"
  }
 },
 "nbformat": 4,
 "nbformat_minor": 5
}
