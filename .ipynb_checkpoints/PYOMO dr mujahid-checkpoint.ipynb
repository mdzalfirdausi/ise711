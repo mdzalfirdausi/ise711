{
 "cells": [
  {
   "cell_type": "code",
   "execution_count": 1,
   "id": "44660875",
   "metadata": {},
   "outputs": [],
   "source": [
    "# USE DATA FROM POWERMODELS.BUILD_REF AS A DICTIONARY\n",
    "# MATCH `def generateindices(d):`FROM JULIA AND PYTHON"
   ]
  },
  {
   "cell_type": "code",
   "execution_count": 2,
   "id": "85241266",
   "metadata": {},
   "outputs": [],
   "source": [
    "# # Change jupyter notebook theme\n",
    "# from jupyterthemes import get_themes\n",
    "# import jupyterthemes as jt\n",
    "# from jupyterthemes.stylefx import set_nb_theme\n",
    "# set_nb_theme('onedork')"
   ]
  },
  {
   "cell_type": "code",
   "execution_count": 3,
   "id": "da1b5e5d",
   "metadata": {},
   "outputs": [],
   "source": [
    "# import necessary packages\n",
    "import numpy as np\n",
    "import pandas as pd\n",
    "# import pandapower as pp\n",
    "# import pandapower.control as control\n",
    "# import pandapower.networks as nw\n",
    "# import pandapower.timeseries as timeseries\n",
    "# from pandapower.timeseries.data_sources.frame_data import DFData\n",
    "# import pandapower.plotting as plt\n",
    "import matplotlib.pyplot as mplt \n",
    "from scipy.optimize import minimize\n",
    "import pyomo.environ as pyo\n",
    "import json"
   ]
  },
  {
   "cell_type": "code",
   "execution_count": 4,
   "id": "e1ee3ed2",
   "metadata": {},
   "outputs": [],
   "source": [
    "# # import and plot the network from pandapower\n",
    "# net = nw.case_ieee30()\n",
    "# # plt.simple_plot(net,  plot_loads=True, plot_gens=True)\n",
    "# pp.runopp(net) # run an Optimal Power Flow using the PYPOWER AC OPF"
   ]
  },
  {
   "cell_type": "code",
   "execution_count": 5,
   "id": "8f64192c",
   "metadata": {},
   "outputs": [],
   "source": [
    "# DON'T DELETE. Define required classes\n",
    "class Bus:\n",
    "    def __init__(self, pd, gs, gens):\n",
    "        self.pd = pd  # Float64\n",
    "        self.gs = gs  # Float64\n",
    "        self.gens = gens  # List of Int\n",
    "        \n",
    "class Gen:\n",
    "    def __init__(self, bus, pmin, pmax, pstart, cost):\n",
    "        self.bus = bus  # Int\n",
    "        self.pmin = pmin  # Float64\n",
    "        self.pmax = pmax  # Float64\n",
    "        self.pstart = pstart  # Float64\n",
    "        self.cost = cost  # List of Float64\n",
    "\n",
    "class Line:\n",
    "    def __init__(self, rate, frombus, tobus, beta):\n",
    "        self.rate = rate  # Float64\n",
    "        self.frombus = frombus  # Int\n",
    "        self.tobus = tobus  # Int\n",
    "        self.beta = beta  # Float64\n",
    "        \n",
    "class NetworkReference:\n",
    "    def __init__(self, ref, nbus, ngen, nline, r, bus, gen, line, originalindices, B, pi, stdw, line_prob=0.9, bus_prob=0.9):\n",
    "        self.ref = ref  # Dictionary of ref data\n",
    "        self.nbus = nbus  # Number of buses\n",
    "        self.ngen = ngen  # Number of generators\n",
    "        self.nline = nline  # Number of lines\n",
    "        self.r = r  # Reference bus index\n",
    "        self.bus = bus  # List of Bus objects\n",
    "        self.gen = gen  # List of Gen objects\n",
    "        self.line = line  # List of Line objects\n",
    "        self.originalindices = originalindices  # Original indices (bus/gen/line)\n",
    "        self.B = B  # Admittance matrix\n",
    "        self.pi = pi  # Inverse reduced admittance matrix\n",
    "        self.stdw = stdw  # List of standard deviations\n",
    "        self.line_prob = line_prob  # Line probability\n",
    "        self.bus_prob = bus_prob  # Bus probability"
   ]
  },
  {
   "cell_type": "code",
   "execution_count": 6,
   "id": "506fa11b",
   "metadata": {},
   "outputs": [],
   "source": [
    "# DON'T DELETE. Define required functions\n",
    "def getstart(dct, item_key, value_key, default=0.0):\n",
    "    return dct.get(item_key, {}).get(value_key, default)\n",
    "def admittancematrix(ref, bus_index):\n",
    "    nbus = len(ref['bus'])\n",
    "    B = np.zeros((nbus, nbus))  # Create a square matrix of zeros with dimensions (nbus, nbus)\n",
    "    \n",
    "    for i, branch in ref['branch'].items():  # Iterate over ref['branch'] items\n",
    "        f_bus = bus_index[ref['bus'][str(branch[\"f_bus\"])][\"index\"]]-1\n",
    "        t_bus = bus_index[ref['bus'][str(branch[\"t_bus\"])][\"index\"]]-1\n",
    "#         f_bus = bus_index[ref['bus'][branch[\"f_bus\"]][\"index\"]]-1\n",
    "#         t_bus = bus_index[ref['bus'][branch[\"t_bus\"]][\"index\"]]-1\n",
    "        \n",
    "        # Update the elements of matrix B based on the formulas provided\n",
    "        B[f_bus, t_bus] += (-branch[\"br_x\"] / (branch[\"br_x\"] ** 2 + branch[\"br_r\"] ** 2))\n",
    "        B[t_bus, f_bus] += (-branch[\"br_x\"] / (branch[\"br_x\"] ** 2 + branch[\"br_r\"] ** 2))\n",
    "        B[f_bus, f_bus] += (branch[\"br_x\"] / (branch[\"br_x\"] ** 2 + branch[\"br_r\"] ** 2))\n",
    "        B[t_bus, t_bus] += (branch[\"br_x\"] / (branch[\"br_x\"] ** 2 + branch[\"br_r\"] ** 2))    \n",
    "    return B\n",
    "\n",
    "def NetworkReference_func(ref, bus_prob = 0.9, line_prob = 0.9, sigma_scaling = 0.05):\n",
    "    def generateindices(d):\n",
    "        originalindices = sorted(int(i) for i in d)\n",
    "        reverseindices = {key: i for i, key in enumerate(originalindices, 1)}\n",
    "        return len(originalindices), originalindices, reverseindices\n",
    "    ngen, genindices, gen_index = generateindices(ref['gen'])\n",
    "    gen = [Gen(\n",
    "        ref['gen'][str(genindices[i])]['gen_bus'],\n",
    "        ref['gen'][str(genindices[i])]['pmin'],\n",
    "        ref['gen'][str(genindices[i])]['pmax'],\n",
    "        getstart(ref['gen'], str(genindices[0]), 'pg_start'),\n",
    "        ref['gen'][str(genindices[i])]['cost']\n",
    "        ) for i in range(ngen)]\n",
    "    nbus, busindices, bus_index = generateindices(ref['bus'])\n",
    "    bus = [Bus(\n",
    "        ref['bus'][str(busindices[i])][\"pd\"],\n",
    "        ref['bus'][str(busindices[i])][\"gs\"],\n",
    "        [gen_index[g] for g in ref['bus_gens'][str(bus_index[i+1])]]\n",
    "        ) for i in range(nbus)]\n",
    "    nline, lineindices, line_index = generateindices(ref[\"branch\"])\n",
    "    line = [Line(\n",
    "        ref['branch'][str(line_index[l+1])][\"rate_a\"],\n",
    "        bus_index[ref['branch'][str(line_index[l+1])][\"f_bus\"]],\n",
    "        bus_index[ref['branch'][str(line_index[l+1])][\"t_bus\"]],\n",
    "        1 / ref['branch'][str(line_index[l+1])][\"br_x\"]\n",
    "        ) for l in range(nline)]\n",
    "    originalindices = {'bus': busindices, 'gen': genindices, 'line': lineindices}\n",
    "    if len(ref['ref_buses']) > 1:\n",
    "        print(\"Using only the first reference bus\")\n",
    "    r = bus_index[ref['ref_buses'][list(ref['ref_buses'].keys())[0]][\"bus_i\"]]\n",
    "    nonref_indices = [b for b in range(1, nbus + 1) if b != r]\n",
    "    B = admittancematrix(ref, bus_index)\n",
    "    pi = np.zeros((nbus, nbus))\n",
    "    nonref_indices_temp = [idx - 1 for idx in nonref_indices]\n",
    "    pi[np.ix_(nonref_indices_temp, nonref_indices_temp)] = np.linalg.inv(B[np.ix_(nonref_indices_temp, nonref_indices_temp)])  \n",
    "    stdw = [sigma_scaling * ref['bus'][str(busindices[i])]['pd'] for i in range(nbus)]\n",
    "    \n",
    "    return NetworkReference(ref, nbus, ngen, nline, r, bus, gen, line,\n",
    "        originalindices, B, pi, stdw, line_prob, bus_prob)"
   ]
  },
  {
   "cell_type": "code",
   "execution_count": 7,
   "id": "d5972b0b",
   "metadata": {},
   "outputs": [],
   "source": [
    "# DONT' DELETE. import JSON data\n",
    "data_file = \"nesta_case30_ieee.m.json\"\n",
    "with open(data_file, 'r') as file:\n",
    "    data = json.load(file)\n",
    "# add keys of pd and gs to the JSON data\n",
    "# zero values for new keys of JSON data\n",
    "list_pd = [0 for i in range(len(data['bus']))] \n",
    "list_gs = [0 for i in range(len(data['bus']))] \n",
    "# 'pd' can be obtained from data['load'][i]['pd']\n",
    "for i in data['load']:\n",
    "    list_pd[data['load'][i]['load_bus']-1] = data['load'][i]['pd']\n",
    "# 'gs' can be obtained from data['shunt'][i]['gs']\n",
    "for i in data['shunt']:\n",
    "    list_gs[data['shunt'][i]['shunt_bus']-1] = data['shunt'][i]['gs']\n",
    "# assign new keys to the JSON data\n",
    "for i in data['bus']:\n",
    "    data['bus'][i]['pd'] = list_pd[int(i)-1]\n",
    "    data['bus'][i]['gs'] = list_gs[int(i)-1]"
   ]
  },
  {
   "cell_type": "code",
   "execution_count": 8,
   "id": "20e49d29",
   "metadata": {},
   "outputs": [],
   "source": [
    "# DONT' DELETE. Load the gen cost with 3 columns\n",
    "data_file = \"nesta_case30_ieee.m\"\n",
    "data_matlab = pd.read_excel(\"cost.xlsx\", sheet_name=f\"{data_file}_C\", header=None)\n",
    "cost_cols = data_matlab.iloc[:, 4:7] \n",
    "list_of_lists = cost_cols.values.tolist()\n",
    "# Convert each item in the list to float and multiply by 100 as PowerModels.build_ref\n",
    "float_list = [[float(item) * 100 for item in row] for row in list_of_lists]\n",
    "# update the JSON data\n",
    "for i in data['gen']:\n",
    "    data['gen'][i]['cost'] = float_list[int(i)-1]"
   ]
  },
  {
   "cell_type": "code",
   "execution_count": 9,
   "id": "e156bb14",
   "metadata": {},
   "outputs": [],
   "source": [
    "ref = NetworkReference_func(data, bus_prob = 0.95, line_prob = 0.95, sigma_scaling = 0.05)"
   ]
  },
  {
   "cell_type": "code",
   "execution_count": 10,
   "id": "addb6a0f",
   "metadata": {},
   "outputs": [],
   "source": [
    "def generateindices(d):\n",
    "    originalindices = sorted(int(i) for i in d)\n",
    "    reverseindices = {key: i for i, key in enumerate(originalindices, 1)}\n",
    "    return len(originalindices), originalindices, reverseindices\n",
    "ngen, genindices, gen_index = generateindices(data['gen'])\n",
    "nbus, busindices, bus_index = generateindices(data['bus'])\n",
    "nline, lineindices, line_index = generateindices(data[\"branch\"])"
   ]
  },
  {
   "cell_type": "code",
   "execution_count": 11,
   "id": "2c4b2707",
   "metadata": {},
   "outputs": [],
   "source": [
    "# model.p = Var(model.ngen, bounds=lambda model, i: (ref.gen[i].pmin, ref.gen[i].pmax), \n",
    "#                           initialize=lambda model, i: ref.gen[i].pstart)"
   ]
  },
  {
   "cell_type": "code",
   "execution_count": 12,
   "id": "8425610d",
   "metadata": {
    "code_folding": []
   },
   "outputs": [
    {
     "data": {
      "text/plain": [
       "{'Problem': [{'Name': 'x1', 'Lower bound': 0.0, 'Upper bound': 0.0, 'Number of objectives': 1, 'Number of constraints': 83, 'Number of variables': 36, 'Number of binary variables': 0, 'Number of integer variables': 0, 'Number of continuous variables': 36, 'Number of nonzeros': 2438, 'Sense': 'minimize'}], 'Solver': [{'Status': 'ok', 'Return code': '0', 'Message': 'Model was solved to optimality (subject to tolerances), and an optimal solution is available.', 'Termination condition': 'optimal', 'Termination message': 'Model was solved to optimality (subject to tolerances), and an optimal solution is available.', 'Wall time': '0.017000198364257812', 'Error rc': 0, 'Time': 0.6340358257293701}], 'Solution': [OrderedDict([('number of solutions', 0), ('number of solutions displayed', 0)])]}"
      ]
     },
     "execution_count": 12,
     "metadata": {},
     "output_type": "execute_result"
    }
   ],
   "source": [
    "import pyomo.environ as pye\n",
    "# from pyomo.opt import SolverFactory\n",
    "\n",
    "# Define the Pyomo model\n",
    "model = pye.ConcreteModel()\n",
    "# Define sets\n",
    "model.ngen = pye.RangeSet(0, ngen-1)\n",
    "model.nbus =pye.RangeSet(0, nbus-1)\n",
    "model.nline = pye.RangeSet(0, nline-1)\n",
    "\n",
    "# Variables\n",
    "model.p = pye.Var(model.ngen, \n",
    "                bounds=lambda model, i: (ref.gen[i].pmin, ref.gen[i].pmax), \n",
    "                initialize=lambda model, i: ref.gen[i].pstart,\n",
    "                domain=pye.NonNegativeReals)\n",
    "\n",
    "model.ω = pye.Var(model.nbus,\n",
    "                  domain=pye.Reals)\n",
    "\n",
    "\n",
    "# cost[0] here is C2 in the data\n",
    "\n",
    "model.cost = pye.Objective(\n",
    "    expr=sum(ref.gen[i].cost[0] * model.p[i] \n",
    "               + ref.gen[i].cost[1] * model.p[i] \n",
    "               + ref.gen[i].cost[2] for i in model.ngen), \n",
    "    sense=pye.minimize\n",
    ")\n",
    "\n",
    "\n",
    "\n",
    "\n",
    "#  power_balance Constraint\n",
    "model.power_balance = pye.Constraint(\n",
    "    expr = sum(\n",
    "        sum(model.p[g-1] for g in ref.bus[b].gens) + model.ω[b] - ref.bus[b].pd - ref.bus[b].gs \n",
    "    for b in model.nbus) == 0\n",
    ")\n",
    "\n",
    "\n",
    "\n",
    "model.line_flow_upper = pye.ConstraintList()\n",
    "model.line_flow_lower = pye.ConstraintList()\n",
    "for l in model.nline:\n",
    "    \n",
    "    b_in = ref.line[l].frombus-1\n",
    "    b_out= ref.line[l].tobus-1\n",
    "    \n",
    "    model.line_flow_upper.add(\n",
    "        sum(\n",
    "            (ref.pi[b_in,b] - ref.pi[b_out,b])*\n",
    "            (sum(model.p[g-1] for g in ref.bus[b].gens) + model.ω[b] - ref.bus[b].pd - ref.bus[b].gs) \n",
    "\n",
    "            for b in model.nbus\n",
    "        ) <= ref.line[l].rate\n",
    "    )\n",
    "    model.line_flow_lower.add(\n",
    "        sum(\n",
    "            (ref.pi[b_in,b] - ref.pi[b_out,b])*\n",
    "            (sum(model.p[g-1] for g in ref.bus[b].gens) + model.ω[b] - ref.bus[b].pd - ref.bus[b].gs )\n",
    "\n",
    "            for b in model.nbus\n",
    "        ) >= -ref.line[l].rate\n",
    "    )\n",
    "\n",
    "    \n",
    "\n",
    "model.dual = pye.Suffix(direction=pye.Suffix.IMPORT)\n",
    "\n",
    "# # Solve the model\n",
    "solver = pye.SolverFactory('gurobi')  # e.g., 'gurobi', 'cbc', 'glpk'\n",
    "solver.solve(model)\n"
   ]
  },
  {
   "cell_type": "code",
   "execution_count": 13,
   "id": "21f02304",
   "metadata": {},
   "outputs": [
    {
     "name": "stdout",
     "output_type": "stream",
     "text": [
      "Total 29 constraint are active\n"
     ]
    },
    {
     "data": {
      "image/png": "[encoded data removed]",
      "text/plain": [
       "<Figure size 640x480 with 1 Axes>"
      ]
     },
     "metadata": {},
     "output_type": "display_data"
    }
   ],
   "source": [
    "line_flow={}\n",
    "import matplotlib.pyplot as plt\n",
    "plt.figure()\n",
    "s = 0\n",
    "\n",
    "for l in model.nline:   \n",
    "    b_in = ref.line[l].frombus-1\n",
    "    b_out= ref.line[l].tobus-1\n",
    "    \n",
    "    line_flow[l] = pye.value(\n",
    "        sum(\n",
    "                (ref.pi[b_in,b] - ref.pi[b_out,b])*\n",
    "                (sum(model.p[g-1] for g in ref.bus[b].gens) + model.ω[b] - ref.bus[b].pd - ref.bus[b].gs )\n",
    "\n",
    "                for b in model.nbus\n",
    "            )\n",
    "    )\n",
    "    \n",
    "    \n",
    "    if np.abs( np.abs(line_flow[l]) - ref.line[l].rate) <=1e-4:\n",
    "#         print(l)\n",
    "        s +=1\n",
    "        \n",
    "\n",
    "    plt.scatter(x=l, y=-ref.line[l].rate, color='c',marker='o', alpha=0.3)\n",
    "    plt.scatter(x=l, y=line_flow[l], color='k',marker='.')\n",
    "    plt.scatter(x=l, y=ref.line[l].rate, color='y',marker='o', alpha=0.3)\n",
    "    \n",
    "print(f\"Total {s} constraint are active\")"
   ]
  },
  {
   "cell_type": "code",
   "execution_count": 14,
   "id": "9cc3c401",
   "metadata": {},
   "outputs": [],
   "source": [
    "# for b in model.nbus:\n",
    "#     print(b, ref.bus[b].pd, ref.bus[b].gs)\n",
    "\n",
    "var = model.p.extract_values()\n",
    "for k in var:\n",
    "    if (var[k] is not None) and (var[k]!=0):\n",
    "        print(k,var[k])"
   ]
  },
  {
   "cell_type": "code",
   "execution_count": 15,
   "id": "62e200a2",
   "metadata": {},
   "outputs": [
    {
     "name": "stdout",
     "output_type": "stream",
     "text": [
      "0 -30.152628782053466\n",
      "1 1.010170161418385\n",
      "2 -20.829445044583743\n",
      "3 38.49884419884351\n",
      "4 -1.646200021577449\n",
      "5 -29.577110891353676\n",
      "6 25.125130429321985\n",
      "7 -4.076008446395046\n",
      "8 -30.92657342657338\n",
      "9 13.152536813605899\n",
      "10 6.826923076923077\n",
      "11 -17.588355970682898\n",
      "12 15.0\n",
      "13 1.432468141033897\n",
      "14 -2.041830288524075\n",
      "15 -0.5731864096846756\n",
      "16 4.8183795849745605\n",
      "17 1.0391639021801313\n",
      "18 3.56895229387512\n",
      "19 -4.585372192711583\n",
      "20 13.366252642023367\n",
      "21 -10.87117544951088\n",
      "22 0.31817957951171905\n",
      "23 1.3643660246542906\n",
      "24 1.2162314882502698\n",
      "25 0.4892860115868755\n",
      "26 -3.8357925931197268\n",
      "27 31.29180151472396\n",
      "28 0.5506816353001883\n",
      "29 0.4683120185433609\n"
     ]
    }
   ],
   "source": [
    "var = model.ω.extract_values()\n",
    "for k in var:\n",
    "    if (var[k] is not None) and (var[k]!=0):\n",
    "        print(k,var[k])"
   ]
  },
  {
   "cell_type": "code",
   "execution_count": 16,
   "id": "6c73f84d",
   "metadata": {},
   "outputs": [
    {
     "name": "stdout",
     "output_type": "stream",
     "text": [
      "power_balance\n",
      "line_flow_upper\n",
      "line_flow_lower\n"
     ]
    }
   ],
   "source": [
    "for con in model.component_objects(pye.Constraint,active=True):\n",
    "    print(con)"
   ]
  },
  {
   "cell_type": "code",
   "execution_count": 17,
   "id": "25493b97",
   "metadata": {},
   "outputs": [
    {
     "name": "stdout",
     "output_type": "stream",
     "text": [
      "line_flow_upper[1] 0.0\n",
      "line_flow_upper[2] 0.0\n",
      "line_flow_upper[3] 0.0\n",
      "line_flow_upper[4] 0.0\n",
      "line_flow_upper[5] 0.0\n",
      "line_flow_upper[6] 0.0\n",
      "line_flow_upper[7] 0.0\n",
      "line_flow_upper[8] 0.0\n",
      "line_flow_upper[9] 0.0\n",
      "line_flow_upper[10] 0.0\n",
      "line_flow_upper[11] 0.0\n",
      "line_flow_upper[12] 0.0\n",
      "line_flow_upper[13] 0.0\n",
      "line_flow_upper[14] 0.0\n",
      "line_flow_upper[15] 0.0\n",
      "line_flow_upper[16] 0.0\n",
      "line_flow_upper[17] 0.0\n",
      "line_flow_upper[18] 0.0\n",
      "line_flow_upper[19] 0.0\n",
      "line_flow_upper[20] 0.0\n",
      "line_flow_upper[21] 0.0\n",
      "line_flow_upper[22] 0.0\n",
      "line_flow_upper[23] 0.0\n",
      "line_flow_upper[24] 0.0\n",
      "line_flow_upper[25] 0.0\n",
      "line_flow_upper[26] 0.0\n",
      "line_flow_upper[27] 0.0\n",
      "line_flow_upper[28] 0.0\n",
      "line_flow_upper[29] 0.0\n",
      "line_flow_upper[30] 0.0\n",
      "line_flow_upper[31] 0.0\n",
      "line_flow_upper[32] 0.0\n",
      "line_flow_upper[33] 0.0\n",
      "line_flow_upper[34] 0.0\n",
      "line_flow_upper[35] 0.0\n",
      "line_flow_upper[36] 0.0\n",
      "line_flow_upper[37] 0.0\n",
      "line_flow_upper[38] 0.0\n",
      "line_flow_upper[39] 0.0\n",
      "line_flow_upper[40] 0.0\n",
      "line_flow_upper[41] 0.0\n"
     ]
    }
   ],
   "source": [
    "for c in model.line_flow_upper:\n",
    "    print(model.line_flow_upper[c].name, model.dual[model.line_flow_upper[c]])"
   ]
  },
  {
   "cell_type": "code",
   "execution_count": 18,
   "id": "df631c51",
   "metadata": {},
   "outputs": [
    {
     "name": "stdout",
     "output_type": "stream",
     "text": [
      "line_flow_lower[1] -0.0\n",
      "line_flow_lower[2] -0.0\n",
      "line_flow_lower[3] -0.0\n",
      "line_flow_lower[4] 0.0\n",
      "line_flow_lower[5] -0.0\n",
      "line_flow_lower[6] 0.0\n",
      "line_flow_lower[7] 0.0\n",
      "line_flow_lower[8] -0.0\n",
      "line_flow_lower[9] -0.0\n",
      "line_flow_lower[10] 0.0\n",
      "line_flow_lower[11] 0.0\n",
      "line_flow_lower[12] 0.0\n",
      "line_flow_lower[13] -0.0\n",
      "line_flow_lower[14] 0.0\n",
      "line_flow_lower[15] 0.0\n",
      "line_flow_lower[16] -0.0\n",
      "line_flow_lower[17] -0.0\n",
      "line_flow_lower[18] 0.0\n",
      "line_flow_lower[19] -0.0\n",
      "line_flow_lower[20] 0.0\n",
      "line_flow_lower[21] -0.0\n",
      "line_flow_lower[22] -0.0\n",
      "line_flow_lower[23] 0.0\n",
      "line_flow_lower[24] 0.0\n",
      "line_flow_lower[25] 0.0\n",
      "line_flow_lower[26] 0.0\n",
      "line_flow_lower[27] -0.0\n",
      "line_flow_lower[28] 0.0\n",
      "line_flow_lower[29] 0.0\n",
      "line_flow_lower[30] -0.0\n",
      "line_flow_lower[31] -0.0\n",
      "line_flow_lower[32] -0.0\n",
      "line_flow_lower[33] -0.0\n",
      "line_flow_lower[34] -0.0\n",
      "line_flow_lower[35] 0.0\n",
      "line_flow_lower[36] 0.0\n",
      "line_flow_lower[37] -0.0\n",
      "line_flow_lower[38] -0.0\n",
      "line_flow_lower[39] 0.0\n",
      "line_flow_lower[40] -0.0\n",
      "line_flow_lower[41] -0.0\n"
     ]
    }
   ],
   "source": [
    "for c in model.line_flow_lower:\n",
    "    print(model.line_flow_lower[c].name, model.dual[model.line_flow_lower[c]])"
   ]
  },
  {
   "cell_type": "code",
   "execution_count": 19,
   "id": "7f5722ce",
   "metadata": {},
   "outputs": [],
   "source": [
    "# for l in model.nline:\n",
    "#     b_in = ref.line[l].frombus-1\n",
    "#     b_out= ref.line[l].tobus-1\n",
    "#     print(l, (ref.pi[b_in,b] - ref.pi[b_out,b]) )"
   ]
  },
  {
   "cell_type": "code",
   "execution_count": null,
   "id": "0378bdc5",
   "metadata": {},
   "outputs": [],
   "source": []
  }
 ],
 "metadata": {
  "hide_input": false,
  "kernelspec": {
   "display_name": "Python 3 (ipykernel)",
   "language": "python",
   "name": "python3"
  },
  "language_info": {
   "codemirror_mode": {
    "name": "ipython",
    "version": 3
   },
   "file_extension": ".py",
   "mimetype": "text/x-python",
   "name": "python",
   "nbconvert_exporter": "python",
   "pygments_lexer": "ipython3",
   "version": "3.11.3"
  },
  "toc": {
   "base_numbering": 1,
   "nav_menu": {},
   "number_sections": true,
   "sideBar": true,
   "skip_h1_title": false,
   "title_cell": "Table of Contents",
   "title_sidebar": "Contents",
   "toc_cell": false,
   "toc_position": {},
   "toc_section_display": true,
   "toc_window_display": false
  },
  "varInspector": {
   "cols": {
    "lenName": 16,
    "lenType": 16,
    "lenVar": 40
   },
   "kernels_config": {
    "python": {
     "delete_cmd_postfix": "",
     "delete_cmd_prefix": "del ",
     "library": "var_list.py",
     "varRefreshCmd": "print(var_dic_list())"
    },
    "r": {
     "delete_cmd_postfix": ") ",
     "delete_cmd_prefix": "rm(",
     "library": "var_list.r",
     "varRefreshCmd": "cat(var_dic_list()) "
    }
   },
   "types_to_exclude": [
    "module",
    "function",
    "builtin_function_or_method",
    "instance",
    "_Feature"
   ],
   "window_display": false
  }
 },
 "nbformat": 4,
 "nbformat_minor": 5
}
