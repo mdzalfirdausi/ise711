{
 "cells": [
  {
   "cell_type": "code",
   "execution_count": 1,
   "id": "b0ef7141",
   "metadata": {
    "ExecuteTime": {
     "end_time": "2025-01-28T11:23:36.814551Z",
     "start_time": "2025-01-28T11:23:31.649811Z"
    }
   },
   "outputs": [
    {
     "name": "stdout",
     "output_type": "stream",
     "text": [
      "CPU times: total: 5.95 s\n",
      "Wall time: 8.18 s\n"
     ]
    }
   ],
   "source": [
    "%%time\n",
    "from tqdm import tqdm\n",
    "import pandapower as pp\n",
    "import pandas as pd\n",
    "import numpy as np\n",
    "import pandapower.converter as pc\n",
    "from pandapower.pypower.makePTDF import makePTDF\n",
    "import pyomo.environ as pyo\n",
    "from scipy.sparse import lil_matrix\n",
    "from matpowercaseframes import CaseFrames\n",
    "matpowercaseframes_imported = True"
   ]
  },
  {
   "cell_type": "code",
   "execution_count": 4,
   "id": "d58f0956",
   "metadata": {},
   "outputs": [
    {
     "name": "stdout",
     "output_type": "stream",
     "text": [
      "CPU times: total: 22.1 s\n",
      "Wall time: 3.63 s\n"
     ]
    }
   ],
   "source": [
    "%%time\n",
    "mpc_file = 'julia\\\\pglib-opf-17.08\\\\pglib_opf_case1951_rte.m'\n",
    "mpc_frames = CaseFrames(mpc_file)\n",
    "ppc = {key: mpc_frames.__getattribute__(key) if not isinstance(\n",
    "    mpc_frames.__getattribute__(key), pd.DataFrame) else mpc_frames.__getattribute__(\n",
    "    key).values for key in mpc_frames._attributes}\n",
    "baseMVA, bus, branch, gen = ppc['baseMVA'], ppc['bus'], ppc['branch'], ppc['gen']\n",
    "bus_index_dict = {}\n",
    "for i, index in enumerate(ppc['bus'][:,0]):\n",
    "    bus_index_dict[index.astype(int)] = i\n",
    "baseMVA,bus,branch = ppc['baseMVA'],ppc['bus'],ppc['branch']\n",
    "for i,bus_name in enumerate(bus[:,0]):\n",
    "    bus[i,0] = bus_index_dict[bus_name]\n",
    "for i,fbus_name in enumerate(branch[:,0]):\n",
    "    branch[i,0] = bus_index_dict[fbus_name]\n",
    "for i,tbus_name in enumerate(branch[:,1]):\n",
    "    branch[i,1] = bus_index_dict[tbus_name]\n",
    "for i,gen_name in enumerate(gen[:,0]):\n",
    "    gen[i,0] = bus_index_dict[gen_name]    \n",
    "gen_index = gen[:,0].astype(int)\n",
    "bus_index = bus[:,0].astype(int)\n",
    "H = lil_matrix((len(bus_index), len(gen_index)), dtype=int)\n",
    "for col, gen_bus in enumerate(gen_index):\n",
    "    H[gen_bus, col] = 1\n",
    "H = H.tocsr()               \n",
    "M = makePTDF(baseMVA, bus, branch)\n",
    "f_max = np.array([rateA for i in range(len(branch)) for j,rateA in enumerate(branch[i]) if j == 5])\n",
    "# f_max = np.array([999999 for i in range(len(branch)) for j,rateA in enumerate(branch[i]) if j == 5])\n",
    "p_init = mpc_frames.gen.PG.values\n",
    "d = mpc_frames.bus.PD.values\n",
    "sigma_scaling = 0.03\n",
    "sigma = (sigma_scaling * d)\n",
    "mean = np.zeros(len(d))\n",
    "covariance_matrix = np.diag(sigma**2)\n",
    "num_samples = 1\n",
    "omega = np.random.multivariate_normal(mean, covariance_matrix, num_samples)\n",
    "gen_index = gen[:,0].astype(int)\n",
    "gen_lb = mpc_frames.gen.PMIN.values\n",
    "gen_ub = mpc_frames.gen.PMAX.values\n",
    "nbus = len(mpc_frames.bus)\n",
    "nline = len(mpc_frames.branch)\n",
    "cost_coeff = mpc_frames.gencost.loc[:,'COST_2':'COST_0'].values"
   ]
  },
  {
   "cell_type": "code",
   "execution_count": 359,
   "id": "6d56e807",
   "metadata": {},
   "outputs": [
    {
     "name": "stdout",
     "output_type": "stream",
     "text": [
      "CPU times: total: 62.5 ms\n",
      "Wall time: 60.6 ms\n"
     ]
    }
   ],
   "source": [
    "%%time\n",
    "# paper model\n",
    "model = pyo.ConcreteModel()\n",
    "# sets\n",
    "ngen = len(gen_index)\n",
    "model.ng = pyo.RangeSet(0, ngen-1)\n",
    "nbus = len(bus_index)\n",
    "model.nb = pyo.RangeSet(0, nbus-1)\n",
    "nline = len(ppc['branch'])\n",
    "model.nl = pyo.RangeSet(0, nline-1)\n",
    "# variables\n",
    "model.p = pyo.Var(model.ng, domain=pyo.Reals, initialize=p_init)\n",
    "model.omega = pyo.Var(model.nb, domain=pyo.Reals)\n",
    "# objective (1a)\n",
    "model.obj = pyo.Objective(expr =\n",
    "                    cost_coeff[:,0].sum() + sum([cost_coeff[:,1][g]*model.p[g] for g in model.ng])\\\n",
    "                    + sum([cost_coeff[:,2][g]*model.p[g] for g in model.ng])\n",
    "                    , sense = pyo.minimize\n",
    ")\n",
    "# constraint (1b) μ is omitted\n",
    "model.c1b = pyo.Constraint(expr =\n",
    "                          sum([model.p[g] for g in model.ng ]) == \n",
    "                           sum([d[b] + d_shunt[b] for b in model.nb]) \n",
    "                           - sum([model.omega[b] for b in model.nb])\n",
    "                          )\n",
    "# constraint (1c)\n",
    "def c1c_lb_rule(model, g):\n",
    "    return gen_lb[g] <= model.p[g]\n",
    "def c1c_ub_rule(model, g):\n",
    "    return gen_ub[g] >= model.p[g]\n",
    "model.c1c_lb = pyo.Constraint(model.ng, rule=c1c_lb_rule)\n",
    "model.c1c_ub = pyo.Constraint(model.ng, rule=c1c_ub_rule)\n",
    "# constraint (1d) μ is omitted\n",
    "flow_expr = M@(H.toarray()@model.p + model.omega - (d))\n",
    "def c1d_lb_rule(model, l):\n",
    "    return -f_max[l] <= flow_expr[l]\n",
    "def c1d_ub_rule(model, l):\n",
    "    return f_max[l] >= flow_expr[l]\n",
    "model.c1d_lb = pyo.Constraint(model.nl, rule=c1d_lb_rule)\n",
    "model.c1d_ub = pyo.Constraint(model.nl, rule=c1d_ub_rule)"
   ]
  },
  {
   "cell_type": "code",
   "execution_count": 360,
   "id": "ebd21ad9",
   "metadata": {},
   "outputs": [
    {
     "name": "stderr",
     "output_type": "stream",
     "text": [
      "1it [00:00,  7.44it/s]\n"
     ]
    }
   ],
   "source": [
    "solver = pyo.SolverFactory('mosek')\n",
    "obj_dict={}\n",
    "infeasible=0\n",
    "for i, value in tqdm(enumerate(omega)):\n",
    "    for j in model.nb:\n",
    "        model.omega[j].fix(value[j]) #\n",
    "    res = solver.solve(model)\n",
    "    if not res.solver.termination_condition == 'optimal':\n",
    "        infeasible+=1\n",
    "#         log_infeasible_constraints(instance)\n",
    "    obj_dict[i]=pyo.value(model.obj)\n",
    "# print(f'C_total=', pyo.value(instance.obj))\n",
    "# for i in instance.p:\n",
    "#     print(f'P{i}=', pyo.value(instance.p[i]))"
   ]
  },
  {
   "cell_type": "code",
   "execution_count": null,
   "id": "028c5bf7",
   "metadata": {},
   "outputs": [],
   "source": []
  },
  {
   "cell_type": "code",
   "execution_count": 362,
   "id": "c85d9dfb",
   "metadata": {},
   "outputs": [
    {
     "name": "stdout",
     "output_type": "stream",
     "text": [
      "Model unknown\n",
      "\n",
      "  Variables:\n",
      "    p : Size=6, Index=ng\n",
      "        Key : Lower : Value              : Upper : Fixed : Stale : Domain\n",
      "          0 :  None : 216.05252096186672 :  None : False : False :  Reals\n",
      "          1 :  None :  70.13739034621706 :  None : False : False :  Reals\n",
      "          2 :  None :                0.0 :  None : False : False :  Reals\n",
      "          3 :  None :                0.0 :  None : False : False :  Reals\n",
      "          4 :  None :                0.0 :  None : False : False :  Reals\n",
      "          5 :  None :                0.0 :  None : False : False :  Reals\n",
      "    omega : Size=30, Index=nb\n",
      "        Key : Lower : Value                   : Upper : Fixed : Stale : Domain\n",
      "          0 :  None :   6.298833120865878e-08 :  None :  True :  True :  Reals\n",
      "          1 :  None :    -0.24459754239315248 :  None :  True :  True :  Reals\n",
      "          2 :  None :    -0.07267458766912792 :  None :  True :  True :  Reals\n",
      "          3 :  None :    0.027773734046334295 :  None :  True :  True :  Reals\n",
      "          4 :  None :      -3.192913655544987 :  None :  True :  True :  Reals\n",
      "          5 :  None :  -3.157055765809696e-08 :  None :  True :  True :  Reals\n",
      "          6 :  None :      0.8305388339539538 :  None :  True :  True :  Reals\n",
      "          7 :  None :       1.633255757766194 :  None :  True :  True :  Reals\n",
      "          8 :  None : -6.8412241026384466e-09 :  None :  True :  True :  Reals\n",
      "          9 :  None :      -0.066460345156982 :  None :  True :  True :  Reals\n",
      "         10 :  None :  4.0696932899336885e-09 :  None :  True :  True :  Reals\n",
      "         11 :  None :    -0.26870094455418253 :  None :  True :  True :  Reals\n",
      "         12 :  None : -2.7728086385906156e-08 :  None :  True :  True :  Reals\n",
      "         13 :  None :     0.27181664753014634 :  None :  True :  True :  Reals\n",
      "         14 :  None :    -0.16245141349768058 :  None :  True :  True :  Reals\n",
      "         15 :  None :    0.056473285478310986 :  None :  True :  True :  Reals\n",
      "         16 :  None :     -0.5601338031005076 :  None :  True :  True :  Reals\n",
      "         17 :  None :    -0.06604033509757172 :  None :  True :  True :  Reals\n",
      "         18 :  None :     -0.1739232770017949 :  None :  True :  True :  Reals\n",
      "         19 :  None :   -0.011952999247556904 :  None :  True :  True :  Reals\n",
      "         20 :  None :    -0.24683288647624718 :  None :  True :  True :  Reals\n",
      "         21 :  None :   2.722551170398613e-08 :  None :  True :  True :  Reals\n",
      "         22 :  None :    -0.11905295529143259 :  None :  True :  True :  Reals\n",
      "         23 :  None :   -0.006706719680609375 :  None :  True :  True :  Reals\n",
      "         24 :  None :  -2.260590292642664e-08 :  None :  True :  True :  Reals\n",
      "         25 :  None :   0.0005794523202605491 :  None :  True :  True :  Reals\n",
      "         26 :  None : -1.5844415740495584e-08 :  None :  True :  True :  Reals\n",
      "         27 :  None :  6.9707730133060096e-09 :  None :  True :  True :  Reals\n",
      "         28 :  None :     0.08743515966248132 :  None :  True :  True :  Reals\n",
      "         29 :  None :     -0.5053427107937417 :  None :  True :  True :  Reals\n",
      "\n",
      "  Objectives:\n",
      "    obj : Size=1, Index=None, Active=True\n",
      "        Key  : Active : Value\n",
      "        None :   True : 11272.398380313713\n",
      "\n",
      "  Constraints:\n",
      "    c1b : Size=1\n",
      "        Key  : Lower : Body : Upper\n",
      "        None :   0.0 :  0.0 :   0.0\n",
      "    c1c_lb : Size=6\n",
      "        Key : Lower : Body               : Upper\n",
      "          0 :   0.0 : 216.05252096186672 :  None\n",
      "          1 :   0.0 :  70.13739034621706 :  None\n",
      "          2 :   0.0 :                0.0 :  None\n",
      "          3 :   0.0 :                0.0 :  None\n",
      "          4 :   0.0 :                0.0 :  None\n",
      "          5 :   0.0 :                0.0 :  None\n",
      "    c1c_ub : Size=6\n",
      "        Key : Lower : Body               : Upper\n",
      "          0 :  None : 216.05252096186672 : 271.0\n",
      "          1 :  None :  70.13739034621706 :  92.0\n",
      "          2 :  None :                0.0 :   0.0\n",
      "          3 :  None :                0.0 :   0.0\n",
      "          4 :  None :                0.0 :   0.0\n",
      "          5 :  None :                0.0 :   0.0\n",
      "    c1d_lb : Size=41\n",
      "        Key : Lower  : Body                   : Upper\n",
      "          0 : -138.0 :     137.99999999999994 :  None\n",
      "          1 : -152.0 :      78.05252102485564 :  None\n",
      "          2 : -139.0 :      45.04175390486775 :  None\n",
      "          3 : -135.0 :      75.57984643718652 :  None\n",
      "          4 : -144.0 :      80.28330575846952 :  None\n",
      "          5 : -139.0 :      60.86773314048664 :  None\n",
      "          6 : -148.0 :      70.22291544425777 :  None\n",
      "          7 : -127.0 :    -17.109607897075442 :  None\n",
      "          8 : -140.0 :      39.07906906312147 :  None\n",
      "          9 : -148.0 :      28.28555263417114 :  None\n",
      "         10 : -142.0 :     27.921148753676658 :  None\n",
      "         11 :  -53.0 :     16.243026866434057 :  None\n",
      "         12 : -142.0 : -4.069695982143004e-09 :  None\n",
      "         13 : -267.0 :     27.921148750905132 :  None\n",
      "         14 : -115.0 :      42.82645863184279 :  None\n",
      "         15 : -210.0 : 2.7728089624607403e-08 :  None\n",
      "         16 :  -29.0 :      7.499970981323559 :  None\n",
      "         17 :  -29.0 :     17.125219046033575 :  None\n",
      "         18 :  -30.0 :      6.732567632203384 :  None\n",
      "         19 :  -20.0 :      1.571787628853662 :  None\n",
      "         20 :  -38.0 :      3.289040917681705 :  None\n",
      "         21 :  -29.0 :      5.884181772462329 :  None\n",
      "         22 :  -29.0 :     2.6181414373647973 :  None\n",
      "         23 :  -29.0 :    -7.0557818396369925 :  None\n",
      "         24 :  -30.0 :      9.267734838884662 :  None\n",
      "         25 :  -33.0 :      6.271092885418813 :  None\n",
      "         26 :  -30.0 :     15.420219402366639 :  None\n",
      "         27 :  -29.0 :       7.33866814551218 :  None\n",
      "         28 :  -29.0 :      -2.32661348410973 :  None\n",
      "         29 :  -29.0 :      4.450373488927164 :  None\n",
      "         30 :  -26.0 :      5.012054688627591 :  None\n",
      "         31 :  -29.0 :       1.13132053363577 :  None\n",
      "         32 :  -27.0 :    -2.5633314974172436 :  None\n",
      "         33 :  -25.0 :     3.4994205476797413 :  None\n",
      "         34 :  -28.0 :     -6.062752067702906 :  None\n",
      "         35 :  -75.0 :     19.480659634678613 :  None\n",
      "         36 :  -28.0 :       6.20897065397391 :  None\n",
      "         37 :  -28.0 :      7.208936897157352 :  None\n",
      "         38 :  -28.0 :     3.8964058136363895 :  None\n",
      "         39 : -140.0 :   -0.08119160806265557 :  None\n",
      "         40 : -149.0 :     19.561851235770554 :  None\n",
      "    c1d_ub : Size=41\n",
      "        Key : Lower : Body                   : Upper\n",
      "          0 :  None :     137.99999999999994 : 138.0\n",
      "          1 :  None :      78.05252102485564 : 152.0\n",
      "          2 :  None :      45.04175390486775 : 139.0\n",
      "          3 :  None :      75.57984643718652 : 135.0\n",
      "          4 :  None :      80.28330575846952 : 144.0\n",
      "          5 :  None :      60.86773314048664 : 139.0\n",
      "          6 :  None :      70.22291544425777 : 148.0\n",
      "          7 :  None :    -17.109607897075442 : 127.0\n",
      "          8 :  None :      39.07906906312147 : 140.0\n",
      "          9 :  None :      28.28555263417114 : 148.0\n",
      "         10 :  None :     27.921148753676658 : 142.0\n",
      "         11 :  None :     16.243026866434057 :  53.0\n",
      "         12 :  None : -4.069695982143004e-09 : 142.0\n",
      "         13 :  None :     27.921148750905132 : 267.0\n",
      "         14 :  None :      42.82645863184279 : 115.0\n",
      "         15 :  None : 2.7728089624607403e-08 : 210.0\n",
      "         16 :  None :      7.499970981323559 :  29.0\n",
      "         17 :  None :     17.125219046033575 :  29.0\n",
      "         18 :  None :      6.732567632203384 :  30.0\n",
      "         19 :  None :      1.571787628853662 :  20.0\n",
      "         20 :  None :      3.289040917681705 :  38.0\n",
      "         21 :  None :      5.884181772462329 :  29.0\n",
      "         22 :  None :     2.6181414373647973 :  29.0\n",
      "         23 :  None :    -7.0557818396369925 :  29.0\n",
      "         24 :  None :      9.267734838884662 :  30.0\n",
      "         25 :  None :      6.271092885418813 :  33.0\n",
      "         26 :  None :     15.420219402366639 :  30.0\n",
      "         27 :  None :       7.33866814551218 :  29.0\n",
      "         28 :  None :      -2.32661348410973 :  29.0\n",
      "         29 :  None :      4.450373488927164 :  29.0\n",
      "         30 :  None :      5.012054688627591 :  26.0\n",
      "         31 :  None :       1.13132053363577 :  29.0\n",
      "         32 :  None :    -2.5633314974172436 :  27.0\n",
      "         33 :  None :     3.4994205476797413 :  25.0\n",
      "         34 :  None :     -6.062752067702906 :  28.0\n"
     ]
    },
    {
     "name": "stdout",
     "output_type": "stream",
     "text": [
      "         35 :  None :     19.480659634678613 :  75.0\n",
      "         36 :  None :       6.20897065397391 :  28.0\n",
      "         37 :  None :      7.208936897157352 :  28.0\n",
      "         38 :  None :     3.8964058136363895 :  28.0\n",
      "         39 :  None :   -0.08119160806265557 : 140.0\n",
      "         40 :  None :     19.561851235770554 : 149.0\n"
     ]
    }
   ],
   "source": [
    "model.display()"
   ]
  },
  {
   "cell_type": "code",
   "execution_count": 7,
   "id": "7cc48be3",
   "metadata": {},
   "outputs": [],
   "source": [
    "# from pyomo.util.infeasible import log_infeasible_constraints\n",
    "# import logging\n",
    "# logging.basicConfig(level=logging.INFO)\n",
    "# log_infeasible_constraints(model)"
   ]
  },
  {
   "cell_type": "markdown",
   "id": "4af5d39c",
   "metadata": {},
   "source": [
    "# Learn"
   ]
  },
  {
   "cell_type": "code",
   "execution_count": 8,
   "id": "fcdb6534",
   "metadata": {},
   "outputs": [],
   "source": [
    "# # success:\n",
    "# net = pc.from_mpc(mpc_file)\n",
    "# pp.runpp(net)"
   ]
  },
  {
   "cell_type": "code",
   "execution_count": 9,
   "id": "b348ef34",
   "metadata": {},
   "outputs": [],
   "source": [
    "# makeBdc.py\n",
    "\n",
    "# from numpy import ones, zeros_like, r_, pi, flatnonzero as find, real, int64, float64, divide, errstate \n",
    "# from pandapower.pypower.idx_brch import F_BUS, T_BUS, BR_X, TAP, SHIFT, BR_STATUS\n",
    "# from pandapower.pypower.idx_bus import BUS_I\n",
    "# from scipy.sparse import csr_matrix, csc_matrix\n",
    "# try:\n",
    "#     import pandaplan.core.pplog as logging\n",
    "# except ImportError:\n",
    "#     import logging\n",
    "# logger = logging.getLogger(__name__)    "
   ]
  },
  {
   "cell_type": "code",
   "execution_count": 10,
   "id": "9bcb8e98",
   "metadata": {},
   "outputs": [],
   "source": [
    "# return_csr = True\n",
    "# sparse = csr_matrix if return_csr else csc_matrix\n",
    "# nb = bus.shape[0]          ## number of buses\n",
    "# nl = branch.shape[0]       ## number of lines\n",
    "# stat = real(branch[:, BR_STATUS])  ## ones at in-service branches\n",
    "# br_x = real(branch[:, BR_X])  ## ones at in-service branches\n",
    "# b = zeros_like(stat, dtype=float64)\n",
    "# divide(stat, br_x, out=b, dtype=float64)  ## series susceptance\n",
    "# tap = ones(nl)  ## default tap ratio = 1\n",
    "# i = find(t := real(branch[:, TAP]))  ## indices of non-zero tap ratios\n",
    "# tap[i] = t[i]  ## assign non-zero tap ratios\n",
    "# tap\n",
    "# b = b / tap\n",
    "# ## build connection matrix Cft = Cf - Ct for line and from - to buses\n",
    "# f = real(branch[:, F_BUS]).astype(int64)                           ## list of \"from\" buses\n",
    "# t = real(branch[:, T_BUS]).astype(int64)                           ## list of \"to\" buses\n",
    "# i = r_[range(nl), range(nl)]                   ## double set of row indices"
   ]
  },
  {
   "cell_type": "code",
   "execution_count": 12,
   "id": "7ad4ee88",
   "metadata": {},
   "outputs": [],
   "source": [
    "# ## connection matrix\n",
    "# Cft = sparse((r_[ones(nl), -ones(nl)], (i, r_[f, t])), (nl, nb))\n",
    "# ## build Bf such that Bf * Va is the vector of real branch powers injected\n",
    "# ## at each branch's \"from\" bus\n",
    "# Bf = sparse((r_[b, -b], (i, r_[f, t])), (nl, nb))## = spdiags(b, 0, nl, nl) * Cft"
   ]
  }
 ],
 "metadata": {
  "kernelspec": {
   "display_name": "Python 3 (ipykernel)",
   "language": "python",
   "name": "python3"
  },
  "language_info": {
   "codemirror_mode": {
    "name": "ipython",
    "version": 3
   },
   "file_extension": ".py",
   "mimetype": "text/x-python",
   "name": "python",
   "nbconvert_exporter": "python",
   "pygments_lexer": "ipython3",
   "version": "3.11.3"
  }
 },
 "nbformat": 4,
 "nbformat_minor": 5
}
