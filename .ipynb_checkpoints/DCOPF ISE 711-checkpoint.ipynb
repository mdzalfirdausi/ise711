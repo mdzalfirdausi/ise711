{
 "cells": [
  {
   "cell_type": "code",
   "execution_count": 1,
   "id": "b0ef7141",
   "metadata": {},
   "outputs": [],
   "source": [
    "from tqdm import tqdm\n",
    "import pandapower as pp\n",
    "import pandas as pd\n",
    "import numpy as np\n",
    "import pandapower.converter as pc\n",
    "from pandapower.pypower.makePTDF import makePTDF\n",
    "import pyomo.environ as pyo\n",
    "import matplotlib.pyplot as plt"
   ]
  },
  {
   "cell_type": "markdown",
   "id": "61dbd60f",
   "metadata": {},
   "source": [
    "# DCOPF paper"
   ]
  },
  {
   "cell_type": "code",
   "execution_count": 112,
   "id": "d58f0956",
   "metadata": {},
   "outputs": [],
   "source": [
    "# data\n",
    "net = pp.networks.case6ww()\n",
    "\n",
    "# Extract data and parameters\n",
    "gen_index = np.hstack([net.ext_grid.bus.values, net.gen.bus.values])\n",
    "bus_index = net.bus.name.values\n",
    "load_index = net.load.bus.values\n",
    "connection = (net.line.from_bus.values, net.line.to_bus.values, net.trafo.hv_bus.values,\\\n",
    "              net.trafo.lv_bus.values)\n",
    "P_min = np.hstack([net.ext_grid.min_p_mw.values, net.gen.min_p_mw.values])\n",
    "P_d = np.array([0 for i in range(len(net.bus))])\n",
    "for i, bus in enumerate(net.load.bus):\n",
    "    P_d[bus] = net.load.p_mw[i]\n",
    "ngen = len(net.gen)\n",
    "nload = len(net.load)\n",
    "nline = len(net.line) + len(net.trafo)\n",
    "# df_gen_cost = net.poly_cost[net.poly_cost['et'] == 'gen']\n",
    "cost_coeff = net.poly_cost.loc[:, 'cp0_eur': 'cp2_eur_per_mw2'].values\n",
    "D = net.load.p_mw.values\n",
    "I = np.identity(ngen)\n",
    "ppc = pc.to_ppc(net, init='flat')\n",
    "baseMVA = ppc['baseMVA']\n",
    "bus = ppc['bus']\n",
    "branch = ppc['branch']\n",
    "PTDF = makePTDF(baseMVA, bus, branch) # the first component is the slack bus\n",
    "# PTDF = PTDF[:,1:] # leave the first component\n",
    "F_max = np.array([rateA for i in range(len(branch)) for j,rateA in enumerate(branch[i]) if j == 5])"
   ]
  },
  {
   "cell_type": "code",
   "execution_count": 155,
   "id": "e3fd06ff",
   "metadata": {},
   "outputs": [
    {
     "name": "stdout",
     "output_type": "stream",
     "text": [
      "C_total= 3046.4125116871473\n",
      "P0= 50.00000010132146\n",
      "P1= 88.07361958462376\n",
      "P2= 71.92638031405478\n"
     ]
    }
   ],
   "source": [
    "# paper model\n",
    "model = pyo.ConcreteModel()\n",
    "# sets\n",
    "ngen = len(net.gen) + len(net.ext_grid)\n",
    "model.ng = pyo.RangeSet(0, ngen-1)\n",
    "# variables\n",
    "model.P = pyo.Var(model.ng)\n",
    "# objective (1 / 15)\n",
    "model.obj = pyo.Objective(expr =\n",
    "                          cost_coeff[:,0].sum()\n",
    "                          + sum(cost_coeff[:,1][i] * model.P[i] for i in model.ng)\n",
    "                          + sum(cost_coeff[:,2][i] *(model.P[i])**2 for i in model.ng ), \n",
    "            sense = pyo.minimize\n",
    ")\n",
    "# constraint (16)\n",
    "model.c16 = pyo.Constraint(expr =\n",
    "                          sum(model.P[i] for i in model.ng) - D.sum() == 0\n",
    "                          )\n",
    "# constraint (17)\n",
    "model.c17_lb = pyo.ConstraintList()\n",
    "model.c17_ub = pyo.ConstraintList()\n",
    "for i in range(len(net.line)):\n",
    "    model.c17_lb.add(expr=\n",
    "                     (-F_max + (PTDF@P_d))[i] <=  PTDF[:,:ngen][i]@model.P\n",
    "                    )\n",
    "    model.c17_ub.add(expr=\n",
    "                     (F_max + (PTDF@P_d))[i] >=  PTDF[:,:ngen][i]@model.P\n",
    "                    )\n",
    "# constraint (19)\n",
    "model.c19_lb = pyo.ConstraintList()\n",
    "model.c19_ub = pyo.ConstraintList()\n",
    "for i in model.P:\n",
    "    model.c19_lb.add(expr=\n",
    "                 P_min[i] <= model.P[i]\n",
    "                 )\n",
    "    model.c19_ub.add(expr=\n",
    "                 P_max[i] >= model.P[i]\n",
    "                 )\n",
    "    \n",
    "solver = pyo.SolverFactory('gurobi')\n",
    "res = solver.solve(model)\n",
    "print(f'C_total=', pyo.value(model.obj))\n",
    "for i in model.P:\n",
    "    print(f'P{i}=', pyo.value(model.P[i]))"
   ]
  }
 ],
 "metadata": {
  "kernelspec": {
   "display_name": "Python 3 (ipykernel)",
   "language": "python",
   "name": "python3"
  },
  "language_info": {
   "codemirror_mode": {
    "name": "ipython",
    "version": 3
   },
   "file_extension": ".py",
   "mimetype": "text/x-python",
   "name": "python",
   "nbconvert_exporter": "python",
   "pygments_lexer": "ipython3",
   "version": "3.11.3"
  }
 },
 "nbformat": 4,
 "nbformat_minor": 5
}
